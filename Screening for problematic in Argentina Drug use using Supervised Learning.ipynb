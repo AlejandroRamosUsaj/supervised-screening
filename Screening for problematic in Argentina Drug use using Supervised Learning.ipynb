{
 "cells": [
  {
   "cell_type": "raw",
   "metadata": {},
   "source": [
    "!wget -nc https://www.indec.gob.ar/ftp/cuadros/menusuperior/enprecosp/ENPreCoSP2008_Baseusuario.rar\n",
    "!wget -nc https://www.indec.gob.ar/ftp/cuadros/menusuperior/enprecosp/bases_enprecosp2011.rar\n",
    "!unrar e ./ENPreCoSP2008_Baseusuario.rar\n",
    "!unrar e ./bases_enprecosp2011.rar"
   ]
  },
  {
   "cell_type": "code",
   "execution_count": 1,
   "metadata": {},
   "outputs": [
    {
     "data": {
      "text/html": [
       "\n",
       "<style>\n",
       ".output_png {\n",
       "    display: table-cell;\n",
       "    text-align: center;\n",
       "    vertical-align: middle;\n",
       "}\n",
       "</style>\n"
      ],
      "text/plain": [
       "<IPython.core.display.HTML object>"
      ]
     },
     "execution_count": 1,
     "metadata": {},
     "output_type": "execute_result"
    }
   ],
   "source": [
    "%matplotlib inline\n",
    "import pandas as pd\n",
    "import os\n",
    "import re\n",
    "import matplotlib.pyplot as plt\n",
    "import scipy.stats as ss\n",
    "import seaborn as sns\n",
    "import numpy as np\n",
    "import warnings\n",
    "\n",
    "import scipy.stats as ss\n",
    "warnings.filterwarnings('ignore')\n",
    "from IPython.core.display import HTML\n",
    "HTML(\"\"\"\n",
    "<style>\n",
    ".output_png {\n",
    "    display: table-cell;\n",
    "    text-align: center;\n",
    "    vertical-align: middle;\n",
    "}\n",
    "</style>\n",
    "\"\"\")"
   ]
  },
  {
   "cell_type": "code",
   "execution_count": 2,
   "metadata": {},
   "outputs": [],
   "source": [
    "def loadDF(filename, sep = None):\n",
    "    with open(filename, 'rb') as inp:\n",
    "        out = inp.read().decode()\n",
    "    out = out.split()\n",
    "    out = pd.DataFrame([i.strip(sep).split(sep) for i in out[1:]], columns = [i for i in out[0].split(sep)])\n",
    "    return out"
   ]
  },
  {
   "cell_type": "markdown",
   "metadata": {},
   "source": [
    "#### Cargo el DataFrame"
   ]
  },
  {
   "cell_type": "code",
   "execution_count": 4,
   "metadata": {},
   "outputs": [],
   "source": [
    "df2011 = loadDF('./data/Base Usuario ENPreCoSP-2011.txt', '|')\n",
    "df2008 = loadDF('./data/ENPreCoSP-2008 Base Usuario.txt', ';')"
   ]
  },
  {
   "cell_type": "code",
   "execution_count": 5,
   "metadata": {},
   "outputs": [
    {
     "name": "stdout",
     "output_type": "stream",
     "text": [
      "<class 'pandas.core.frame.DataFrame'>\n",
      "RangeIndex: 34343 entries, 0 to 34342\n",
      "Columns: 291 entries, IDENTIFI to BIDT03\n",
      "dtypes: object(291)\n",
      "memory usage: 76.2+ MB\n"
     ]
    },
    {
     "data": {
      "text/html": [
       "<div>\n",
       "<style scoped>\n",
       "    .dataframe tbody tr th:only-of-type {\n",
       "        vertical-align: middle;\n",
       "    }\n",
       "\n",
       "    .dataframe tbody tr th {\n",
       "        vertical-align: top;\n",
       "    }\n",
       "\n",
       "    .dataframe thead th {\n",
       "        text-align: right;\n",
       "    }\n",
       "</style>\n",
       "<table border=\"1\" class=\"dataframe\">\n",
       "  <thead>\n",
       "    <tr style=\"text-align: right;\">\n",
       "      <th></th>\n",
       "      <th>IDENTIFI</th>\n",
       "      <th>W_PERS</th>\n",
       "      <th>REGION</th>\n",
       "      <th>POB_URB</th>\n",
       "      <th>PRVNC</th>\n",
       "      <th>AGL_URB</th>\n",
       "      <th>BHCV01</th>\n",
       "      <th>BHCV02</th>\n",
       "      <th>BHCV03</th>\n",
       "      <th>BHCV04</th>\n",
       "      <th>...</th>\n",
       "      <th>BIDT02_05</th>\n",
       "      <th>BIDT02_06</th>\n",
       "      <th>BIDT02_07</th>\n",
       "      <th>BIDT02_08</th>\n",
       "      <th>BIDT02_09</th>\n",
       "      <th>BIDT02_10</th>\n",
       "      <th>BIDT02_11</th>\n",
       "      <th>BIDT02_12</th>\n",
       "      <th>BIDT02_13</th>\n",
       "      <th>BIDT03</th>\n",
       "    </tr>\n",
       "  </thead>\n",
       "  <tbody>\n",
       "    <tr>\n",
       "      <td>0</td>\n",
       "      <td>61301445099</td>\n",
       "      <td>3787</td>\n",
       "      <td>1</td>\n",
       "      <td>4</td>\n",
       "      <td>6</td>\n",
       "      <td>1</td>\n",
       "      <td>3</td>\n",
       "      <td>4</td>\n",
       "      <td>1</td>\n",
       "      <td>1</td>\n",
       "      <td>...</td>\n",
       "      <td>None</td>\n",
       "      <td>None</td>\n",
       "      <td>None</td>\n",
       "      <td>None</td>\n",
       "      <td>None</td>\n",
       "      <td>None</td>\n",
       "      <td>None</td>\n",
       "      <td>None</td>\n",
       "      <td>None</td>\n",
       "      <td>None</td>\n",
       "    </tr>\n",
       "    <tr>\n",
       "      <td>1</td>\n",
       "      <td>94924403348</td>\n",
       "      <td>5301</td>\n",
       "      <td>1</td>\n",
       "      <td>4</td>\n",
       "      <td>6</td>\n",
       "      <td>1</td>\n",
       "      <td>3</td>\n",
       "      <td>4</td>\n",
       "      <td>1</td>\n",
       "      <td>1</td>\n",
       "      <td>...</td>\n",
       "      <td>None</td>\n",
       "      <td>None</td>\n",
       "      <td>None</td>\n",
       "      <td>None</td>\n",
       "      <td>None</td>\n",
       "      <td>None</td>\n",
       "      <td>None</td>\n",
       "      <td>None</td>\n",
       "      <td>None</td>\n",
       "      <td>None</td>\n",
       "    </tr>\n",
       "    <tr>\n",
       "      <td>2</td>\n",
       "      <td>63798413037</td>\n",
       "      <td>2248</td>\n",
       "      <td>1</td>\n",
       "      <td>4</td>\n",
       "      <td>6</td>\n",
       "      <td>1</td>\n",
       "      <td>3</td>\n",
       "      <td>4</td>\n",
       "      <td>1</td>\n",
       "      <td>1</td>\n",
       "      <td>...</td>\n",
       "      <td>None</td>\n",
       "      <td>None</td>\n",
       "      <td>None</td>\n",
       "      <td>None</td>\n",
       "      <td>None</td>\n",
       "      <td>None</td>\n",
       "      <td>None</td>\n",
       "      <td>None</td>\n",
       "      <td>None</td>\n",
       "      <td>None</td>\n",
       "    </tr>\n",
       "    <tr>\n",
       "      <td>3</td>\n",
       "      <td>75477993771</td>\n",
       "      <td>6157</td>\n",
       "      <td>1</td>\n",
       "      <td>4</td>\n",
       "      <td>6</td>\n",
       "      <td>1</td>\n",
       "      <td>3</td>\n",
       "      <td>3</td>\n",
       "      <td>1</td>\n",
       "      <td>1</td>\n",
       "      <td>...</td>\n",
       "      <td>None</td>\n",
       "      <td>None</td>\n",
       "      <td>None</td>\n",
       "      <td>None</td>\n",
       "      <td>None</td>\n",
       "      <td>None</td>\n",
       "      <td>None</td>\n",
       "      <td>None</td>\n",
       "      <td>None</td>\n",
       "      <td>None</td>\n",
       "    </tr>\n",
       "    <tr>\n",
       "      <td>4</td>\n",
       "      <td>34764150916</td>\n",
       "      <td>12528</td>\n",
       "      <td>1</td>\n",
       "      <td>4</td>\n",
       "      <td>6</td>\n",
       "      <td>1</td>\n",
       "      <td>3</td>\n",
       "      <td>4</td>\n",
       "      <td>1</td>\n",
       "      <td>1</td>\n",
       "      <td>...</td>\n",
       "      <td>None</td>\n",
       "      <td>None</td>\n",
       "      <td>None</td>\n",
       "      <td>None</td>\n",
       "      <td>None</td>\n",
       "      <td>None</td>\n",
       "      <td>None</td>\n",
       "      <td>None</td>\n",
       "      <td>None</td>\n",
       "      <td>None</td>\n",
       "    </tr>\n",
       "  </tbody>\n",
       "</table>\n",
       "<p>5 rows × 291 columns</p>\n",
       "</div>"
      ],
      "text/plain": [
       "      IDENTIFI W_PERS REGION POB_URB PRVNC AGL_URB BHCV01 BHCV02 BHCV03  \\\n",
       "0  61301445099   3787      1       4     6       1      3      4      1   \n",
       "1  94924403348   5301      1       4     6       1      3      4      1   \n",
       "2  63798413037   2248      1       4     6       1      3      4      1   \n",
       "3  75477993771   6157      1       4     6       1      3      3      1   \n",
       "4  34764150916  12528      1       4     6       1      3      4      1   \n",
       "\n",
       "  BHCV04  ... BIDT02_05 BIDT02_06 BIDT02_07 BIDT02_08 BIDT02_09 BIDT02_10  \\\n",
       "0      1  ...      None      None      None      None      None      None   \n",
       "1      1  ...      None      None      None      None      None      None   \n",
       "2      1  ...      None      None      None      None      None      None   \n",
       "3      1  ...      None      None      None      None      None      None   \n",
       "4      1  ...      None      None      None      None      None      None   \n",
       "\n",
       "  BIDT02_11 BIDT02_12 BIDT02_13 BIDT03  \n",
       "0      None      None      None   None  \n",
       "1      None      None      None   None  \n",
       "2      None      None      None   None  \n",
       "3      None      None      None   None  \n",
       "4      None      None      None   None  \n",
       "\n",
       "[5 rows x 291 columns]"
      ]
     },
     "execution_count": 5,
     "metadata": {},
     "output_type": "execute_result"
    }
   ],
   "source": [
    "df2011.info()\n",
    "df2011.head()"
   ]
  },
  {
   "cell_type": "code",
   "execution_count": 23,
   "metadata": {},
   "outputs": [
    {
     "name": "stdout",
     "output_type": "stream",
     "text": [
      "<class 'pandas.core.frame.DataFrame'>\n",
      "RangeIndex: 34203 entries, 0 to 34202\n",
      "Columns: 296 entries, IDENTIFI to Año\n",
      "dtypes: object(296)\n",
      "memory usage: 77.2+ MB\n"
     ]
    },
    {
     "data": {
      "text/html": [
       "<div>\n",
       "<style scoped>\n",
       "    .dataframe tbody tr th:only-of-type {\n",
       "        vertical-align: middle;\n",
       "    }\n",
       "\n",
       "    .dataframe tbody tr th {\n",
       "        vertical-align: top;\n",
       "    }\n",
       "\n",
       "    .dataframe thead th {\n",
       "        text-align: right;\n",
       "    }\n",
       "</style>\n",
       "<table border=\"1\" class=\"dataframe\">\n",
       "  <thead>\n",
       "    <tr style=\"text-align: right;\">\n",
       "      <th></th>\n",
       "      <th>IDENTIFI</th>\n",
       "      <th>W_PERS</th>\n",
       "      <th>REGION</th>\n",
       "      <th>POB_URB</th>\n",
       "      <th>PROV</th>\n",
       "      <th>AGL_URB</th>\n",
       "      <th>BHCV01</th>\n",
       "      <th>BHCV02</th>\n",
       "      <th>BHCV03</th>\n",
       "      <th>BHCV04</th>\n",
       "      <th>...</th>\n",
       "      <th>BIDT02_06</th>\n",
       "      <th>BIDT02_07</th>\n",
       "      <th>BIDT02_08</th>\n",
       "      <th>BIDT02_09</th>\n",
       "      <th>BIDT02_10</th>\n",
       "      <th>BIDT02_11</th>\n",
       "      <th>BIDT02_12</th>\n",
       "      <th>BIDT02_13</th>\n",
       "      <th>BIDT03</th>\n",
       "      <th>Año</th>\n",
       "    </tr>\n",
       "  </thead>\n",
       "  <tbody>\n",
       "    <tr>\n",
       "      <td>0</td>\n",
       "      <td>25662899</td>\n",
       "      <td>3108</td>\n",
       "      <td>2</td>\n",
       "      <td>3</td>\n",
       "      <td>6</td>\n",
       "      <td>8</td>\n",
       "      <td>1</td>\n",
       "      <td>1</td>\n",
       "      <td>1</td>\n",
       "      <td>1</td>\n",
       "      <td>...</td>\n",
       "      <td>None</td>\n",
       "      <td>None</td>\n",
       "      <td>None</td>\n",
       "      <td>None</td>\n",
       "      <td>None</td>\n",
       "      <td>None</td>\n",
       "      <td>None</td>\n",
       "      <td>None</td>\n",
       "      <td>None</td>\n",
       "      <td>2008</td>\n",
       "    </tr>\n",
       "    <tr>\n",
       "      <td>1</td>\n",
       "      <td>77993054</td>\n",
       "      <td>3238</td>\n",
       "      <td>2</td>\n",
       "      <td>3</td>\n",
       "      <td>6</td>\n",
       "      <td>8</td>\n",
       "      <td>1</td>\n",
       "      <td>2</td>\n",
       "      <td>2</td>\n",
       "      <td>2</td>\n",
       "      <td>...</td>\n",
       "      <td>None</td>\n",
       "      <td>None</td>\n",
       "      <td>None</td>\n",
       "      <td>None</td>\n",
       "      <td>None</td>\n",
       "      <td>None</td>\n",
       "      <td>None</td>\n",
       "      <td>None</td>\n",
       "      <td>None</td>\n",
       "      <td>2008</td>\n",
       "    </tr>\n",
       "    <tr>\n",
       "      <td>2</td>\n",
       "      <td>98825711</td>\n",
       "      <td>1415</td>\n",
       "      <td>2</td>\n",
       "      <td>3</td>\n",
       "      <td>6</td>\n",
       "      <td>8</td>\n",
       "      <td>1</td>\n",
       "      <td>2</td>\n",
       "      <td>2</td>\n",
       "      <td>1</td>\n",
       "      <td>...</td>\n",
       "      <td>None</td>\n",
       "      <td>None</td>\n",
       "      <td>None</td>\n",
       "      <td>None</td>\n",
       "      <td>None</td>\n",
       "      <td>None</td>\n",
       "      <td>None</td>\n",
       "      <td>None</td>\n",
       "      <td>None</td>\n",
       "      <td>2008</td>\n",
       "    </tr>\n",
       "    <tr>\n",
       "      <td>3</td>\n",
       "      <td>58165012</td>\n",
       "      <td>1114</td>\n",
       "      <td>2</td>\n",
       "      <td>3</td>\n",
       "      <td>6</td>\n",
       "      <td>8</td>\n",
       "      <td>2</td>\n",
       "      <td>2</td>\n",
       "      <td>2</td>\n",
       "      <td>1</td>\n",
       "      <td>...</td>\n",
       "      <td>None</td>\n",
       "      <td>None</td>\n",
       "      <td>None</td>\n",
       "      <td>None</td>\n",
       "      <td>None</td>\n",
       "      <td>None</td>\n",
       "      <td>None</td>\n",
       "      <td>None</td>\n",
       "      <td>None</td>\n",
       "      <td>2008</td>\n",
       "    </tr>\n",
       "    <tr>\n",
       "      <td>4</td>\n",
       "      <td>80083154</td>\n",
       "      <td>1573</td>\n",
       "      <td>2</td>\n",
       "      <td>3</td>\n",
       "      <td>6</td>\n",
       "      <td>8</td>\n",
       "      <td>1</td>\n",
       "      <td>3</td>\n",
       "      <td>3</td>\n",
       "      <td>2</td>\n",
       "      <td>...</td>\n",
       "      <td>None</td>\n",
       "      <td>None</td>\n",
       "      <td>None</td>\n",
       "      <td>None</td>\n",
       "      <td>None</td>\n",
       "      <td>None</td>\n",
       "      <td>None</td>\n",
       "      <td>None</td>\n",
       "      <td>None</td>\n",
       "      <td>2008</td>\n",
       "    </tr>\n",
       "  </tbody>\n",
       "</table>\n",
       "<p>5 rows × 296 columns</p>\n",
       "</div>"
      ],
      "text/plain": [
       "   IDENTIFI W_PERS REGION POB_URB PROV AGL_URB BHCV01 BHCV02 BHCV03 BHCV04  \\\n",
       "0  25662899   3108      2       3    6       8      1      1      1      1   \n",
       "1  77993054   3238      2       3    6       8      1      2      2      2   \n",
       "2  98825711   1415      2       3    6       8      1      2      2      1   \n",
       "3  58165012   1114      2       3    6       8      2      2      2      1   \n",
       "4  80083154   1573      2       3    6       8      1      3      3      2   \n",
       "\n",
       "   ... BIDT02_06 BIDT02_07 BIDT02_08 BIDT02_09 BIDT02_10 BIDT02_11 BIDT02_12  \\\n",
       "0  ...      None      None      None      None      None      None      None   \n",
       "1  ...      None      None      None      None      None      None      None   \n",
       "2  ...      None      None      None      None      None      None      None   \n",
       "3  ...      None      None      None      None      None      None      None   \n",
       "4  ...      None      None      None      None      None      None      None   \n",
       "\n",
       "  BIDT02_13 BIDT03   Año  \n",
       "0      None   None  2008  \n",
       "1      None   None  2008  \n",
       "2      None   None  2008  \n",
       "3      None   None  2008  \n",
       "4      None   None  2008  \n",
       "\n",
       "[5 rows x 296 columns]"
      ]
     },
     "execution_count": 23,
     "metadata": {},
     "output_type": "execute_result"
    }
   ],
   "source": [
    "df2008.info()\n",
    "df2008.head()"
   ]
  },
  {
   "cell_type": "code",
   "execution_count": 24,
   "metadata": {},
   "outputs": [
    {
     "data": {
      "text/plain": [
       "set()"
      ]
     },
     "execution_count": 24,
     "metadata": {},
     "output_type": "execute_result"
    }
   ],
   "source": [
    "#No hay sujetos repetidos\n",
    "set(df2008['IDENTIFI'].unique()) & set(df2011['IDENTIFI'].unique())"
   ]
  },
  {
   "cell_type": "code",
   "execution_count": 25,
   "metadata": {},
   "outputs": [],
   "source": [
    "df2008['Año'] = '2008'\n",
    "df2011['Año'] = '2011'"
   ]
  },
  {
   "cell_type": "code",
   "execution_count": 26,
   "metadata": {},
   "outputs": [
    {
     "name": "stdout",
     "output_type": "stream",
     "text": [
      "Index(['BHHO01', 'BHHO02', 'BHHO03', 'BIOD01_01', 'BIOD01_02', 'BIOD01_03',\n",
      "       'BIOD02_01', 'BIOD02_02', 'BIOD02_03', 'BIOD03_01', 'BIOD03_02',\n",
      "       'BIOD03_03', 'BIOD04_01', 'BIOD04_02', 'BIOD04_03', 'BIOD05_01',\n",
      "       'BIOD05_02', 'BIOD05_03', 'PRVNC'],\n",
      "      dtype='object') Index(['BHCV12', 'BHCV13', 'BHCV14', 'BIODA_01', 'BIODA_02', 'BIODA_03',\n",
      "       'BIODB_01', 'BIODB_02', 'BIODB_03', 'BIODC_01', 'BIODC_02', 'BIODC_03',\n",
      "       'BIODD_01', 'BIODD_02', 'BIODD_03', 'BIODE_01', 'BIODE_02', 'BIODE_03',\n",
      "       'DEP_CO', 'DEP_EX', 'DEP_MA', 'DEP_PB', 'PROV'],\n",
      "      dtype='object')\n"
     ]
    }
   ],
   "source": [
    "#Columnas de diferencia\n",
    "#Por ahora saco todas, hay que revisar\n",
    "\n",
    "print(df2011.columns.difference(df2008.columns),\n",
    "      df2008.columns.difference(df2011.columns))\n",
    "lio = df2011.columns.difference(df2008.columns).union(\n",
    "      df2008.columns.difference(df2011.columns))\n",
    "df2008_drop = df2008.drop(df2008.columns.intersection(lio), axis = 1)\n",
    "df2011_drop = df2011.drop(df2011.columns.intersection(lio), axis = 1)"
   ]
  },
  {
   "cell_type": "code",
   "execution_count": 27,
   "metadata": {},
   "outputs": [
    {
     "data": {
      "text/plain": [
       "(68546, 273)"
      ]
     },
     "execution_count": 27,
     "metadata": {},
     "output_type": "execute_result"
    }
   ],
   "source": [
    "#Uno en un DataFrame\n",
    "\n",
    "dftotal = pd.concat([df2008_drop,df2011_drop], ignore_index=True)\n",
    "dftotal.shape"
   ]
  },
  {
   "cell_type": "code",
   "execution_count": 28,
   "metadata": {},
   "outputs": [],
   "source": [
    "#Sampleo para facilitar\n",
    "\n",
    "#dftotal = dftotal.sample(dftotal.shape[0]//2)"
   ]
  },
  {
   "cell_type": "markdown",
   "metadata": {},
   "source": [
    "### Limpieza"
   ]
  },
  {
   "cell_type": "code",
   "execution_count": 29,
   "metadata": {},
   "outputs": [
    {
     "name": "stdout",
     "output_type": "stream",
     "text": [
      "CPU times: user 10.9 s, sys: 268 ms, total: 11.2 s\n",
      "Wall time: 11.2 s\n"
     ]
    }
   ],
   "source": [
    "%%time\n",
    "\n",
    "dftotal = dftotal.replace('^\\s*$', np.nan, regex=True)\n",
    "dftotal = dftotal.apply(lambda x: pd.to_numeric(x, errors = 'ignore'))"
   ]
  },
  {
   "cell_type": "code",
   "execution_count": 30,
   "metadata": {},
   "outputs": [],
   "source": [
    "def limpiar_col(c):\n",
    "    c[(c <= c.quantile(0.0001))] = c.quantile(0.0001)\n",
    "    c[(c >= c.quantile(0.9999))] = c.quantile(0.9999)\n",
    "    return c"
   ]
  },
  {
   "cell_type": "code",
   "execution_count": 31,
   "metadata": {},
   "outputs": [
    {
     "name": "stdout",
     "output_type": "stream",
     "text": [
      "CPU times: user 3.42 s, sys: 172 ms, total: 3.59 s\n",
      "Wall time: 2.16 s\n"
     ]
    }
   ],
   "source": [
    "%%time\n",
    "\n",
    "dftotal = dftotal.apply(limpiar_col, axis = 0)"
   ]
  },
  {
   "cell_type": "code",
   "execution_count": 32,
   "metadata": {},
   "outputs": [
    {
     "data": {
      "text/html": [
       "<div>\n",
       "<style scoped>\n",
       "    .dataframe tbody tr th:only-of-type {\n",
       "        vertical-align: middle;\n",
       "    }\n",
       "\n",
       "    .dataframe tbody tr th {\n",
       "        vertical-align: top;\n",
       "    }\n",
       "\n",
       "    .dataframe thead th {\n",
       "        text-align: right;\n",
       "    }\n",
       "</style>\n",
       "<table border=\"1\" class=\"dataframe\">\n",
       "  <thead>\n",
       "    <tr style=\"text-align: right;\">\n",
       "      <th></th>\n",
       "      <th>IDENTIFI</th>\n",
       "      <th>W_PERS</th>\n",
       "      <th>REGION</th>\n",
       "      <th>POB_URB</th>\n",
       "      <th>AGL_URB</th>\n",
       "      <th>BHCV01</th>\n",
       "      <th>BHCV02</th>\n",
       "      <th>BHCV03</th>\n",
       "      <th>BHCV04</th>\n",
       "      <th>BHCV05</th>\n",
       "      <th>...</th>\n",
       "      <th>BIDT02_06</th>\n",
       "      <th>BIDT02_07</th>\n",
       "      <th>BIDT02_08</th>\n",
       "      <th>BIDT02_09</th>\n",
       "      <th>BIDT02_10</th>\n",
       "      <th>BIDT02_11</th>\n",
       "      <th>BIDT02_12</th>\n",
       "      <th>BIDT02_13</th>\n",
       "      <th>BIDT03</th>\n",
       "      <th>Año</th>\n",
       "    </tr>\n",
       "  </thead>\n",
       "  <tbody>\n",
       "    <tr>\n",
       "      <td>0</td>\n",
       "      <td>25662899.0</td>\n",
       "      <td>3108.0</td>\n",
       "      <td>2</td>\n",
       "      <td>3</td>\n",
       "      <td>8</td>\n",
       "      <td>1</td>\n",
       "      <td>1.0</td>\n",
       "      <td>1</td>\n",
       "      <td>1</td>\n",
       "      <td>2</td>\n",
       "      <td>...</td>\n",
       "      <td>NaN</td>\n",
       "      <td>NaN</td>\n",
       "      <td>NaN</td>\n",
       "      <td>NaN</td>\n",
       "      <td>NaN</td>\n",
       "      <td>NaN</td>\n",
       "      <td>NaN</td>\n",
       "      <td>NaN</td>\n",
       "      <td>NaN</td>\n",
       "      <td>2008</td>\n",
       "    </tr>\n",
       "    <tr>\n",
       "      <td>1</td>\n",
       "      <td>77993054.0</td>\n",
       "      <td>3238.0</td>\n",
       "      <td>2</td>\n",
       "      <td>3</td>\n",
       "      <td>8</td>\n",
       "      <td>1</td>\n",
       "      <td>2.0</td>\n",
       "      <td>2</td>\n",
       "      <td>2</td>\n",
       "      <td>1</td>\n",
       "      <td>...</td>\n",
       "      <td>NaN</td>\n",
       "      <td>NaN</td>\n",
       "      <td>NaN</td>\n",
       "      <td>NaN</td>\n",
       "      <td>NaN</td>\n",
       "      <td>NaN</td>\n",
       "      <td>NaN</td>\n",
       "      <td>NaN</td>\n",
       "      <td>NaN</td>\n",
       "      <td>2008</td>\n",
       "    </tr>\n",
       "    <tr>\n",
       "      <td>2</td>\n",
       "      <td>98825711.0</td>\n",
       "      <td>1415.0</td>\n",
       "      <td>2</td>\n",
       "      <td>3</td>\n",
       "      <td>8</td>\n",
       "      <td>1</td>\n",
       "      <td>2.0</td>\n",
       "      <td>2</td>\n",
       "      <td>1</td>\n",
       "      <td>1</td>\n",
       "      <td>...</td>\n",
       "      <td>NaN</td>\n",
       "      <td>NaN</td>\n",
       "      <td>NaN</td>\n",
       "      <td>NaN</td>\n",
       "      <td>NaN</td>\n",
       "      <td>NaN</td>\n",
       "      <td>NaN</td>\n",
       "      <td>NaN</td>\n",
       "      <td>NaN</td>\n",
       "      <td>2008</td>\n",
       "    </tr>\n",
       "    <tr>\n",
       "      <td>3</td>\n",
       "      <td>58165012.0</td>\n",
       "      <td>1114.0</td>\n",
       "      <td>2</td>\n",
       "      <td>3</td>\n",
       "      <td>8</td>\n",
       "      <td>2</td>\n",
       "      <td>2.0</td>\n",
       "      <td>2</td>\n",
       "      <td>1</td>\n",
       "      <td>1</td>\n",
       "      <td>...</td>\n",
       "      <td>NaN</td>\n",
       "      <td>NaN</td>\n",
       "      <td>NaN</td>\n",
       "      <td>NaN</td>\n",
       "      <td>NaN</td>\n",
       "      <td>NaN</td>\n",
       "      <td>NaN</td>\n",
       "      <td>NaN</td>\n",
       "      <td>NaN</td>\n",
       "      <td>2008</td>\n",
       "    </tr>\n",
       "    <tr>\n",
       "      <td>4</td>\n",
       "      <td>80083154.0</td>\n",
       "      <td>1573.0</td>\n",
       "      <td>2</td>\n",
       "      <td>3</td>\n",
       "      <td>8</td>\n",
       "      <td>1</td>\n",
       "      <td>3.0</td>\n",
       "      <td>3</td>\n",
       "      <td>2</td>\n",
       "      <td>2</td>\n",
       "      <td>...</td>\n",
       "      <td>NaN</td>\n",
       "      <td>NaN</td>\n",
       "      <td>NaN</td>\n",
       "      <td>NaN</td>\n",
       "      <td>NaN</td>\n",
       "      <td>NaN</td>\n",
       "      <td>NaN</td>\n",
       "      <td>NaN</td>\n",
       "      <td>NaN</td>\n",
       "      <td>2008</td>\n",
       "    </tr>\n",
       "  </tbody>\n",
       "</table>\n",
       "<p>5 rows × 273 columns</p>\n",
       "</div>"
      ],
      "text/plain": [
       "     IDENTIFI  W_PERS  REGION  POB_URB  AGL_URB  BHCV01  BHCV02  BHCV03  \\\n",
       "0  25662899.0  3108.0       2        3        8       1     1.0       1   \n",
       "1  77993054.0  3238.0       2        3        8       1     2.0       2   \n",
       "2  98825711.0  1415.0       2        3        8       1     2.0       2   \n",
       "3  58165012.0  1114.0       2        3        8       2     2.0       2   \n",
       "4  80083154.0  1573.0       2        3        8       1     3.0       3   \n",
       "\n",
       "   BHCV04  BHCV05  ...  BIDT02_06  BIDT02_07  BIDT02_08  BIDT02_09  BIDT02_10  \\\n",
       "0       1       2  ...        NaN        NaN        NaN        NaN        NaN   \n",
       "1       2       1  ...        NaN        NaN        NaN        NaN        NaN   \n",
       "2       1       1  ...        NaN        NaN        NaN        NaN        NaN   \n",
       "3       1       1  ...        NaN        NaN        NaN        NaN        NaN   \n",
       "4       2       2  ...        NaN        NaN        NaN        NaN        NaN   \n",
       "\n",
       "   BIDT02_11  BIDT02_12  BIDT02_13  BIDT03   Año  \n",
       "0        NaN        NaN        NaN     NaN  2008  \n",
       "1        NaN        NaN        NaN     NaN  2008  \n",
       "2        NaN        NaN        NaN     NaN  2008  \n",
       "3        NaN        NaN        NaN     NaN  2008  \n",
       "4        NaN        NaN        NaN     NaN  2008  \n",
       "\n",
       "[5 rows x 273 columns]"
      ]
     },
     "execution_count": 32,
     "metadata": {},
     "output_type": "execute_result"
    }
   ],
   "source": [
    "dftotal.head()"
   ]
  },
  {
   "cell_type": "code",
   "execution_count": 33,
   "metadata": {},
   "outputs": [],
   "source": [
    "def tabaco(row):\n",
    "    if (row['BITA05'] > 10 ) | (row['BITA06'] > 0 ):\n",
    "        return 1\n",
    "    else:\n",
    "        return 0\n",
    "def marihuana(row):\n",
    "    if sum([row['BIMA04'] == 1, row['BIMA06'] == 1, row['BIMA11'] == 1,row['BIMA12'] == 1,\n",
    "        row['BIMA09'] == 1, row['BIMA13'] == 1, row['BIMA16'] == 1]):\n",
    "        return 1\n",
    "    else:\n",
    "        return 0\n",
    "def alcohol(row):\n",
    "    if ((row['AB_TC'] == 1) | (row[['BIBA07_01', 'BIBA07_02', 'BIBA07_03']].sum() > 20) |\n",
    "    (row[['BIBA08_01', 'BIBA08_02', 'BIBA08_03', 'BIBA09_01', 'BIBA09_02', 'BIBA09_03']].sum() > 20) |\n",
    "    (row['BIBA12'] == 1) | (row['BIBA06'] >= 3) | (row['BIBA11'] > 9)): \n",
    "        return 1\n",
    "    else:\n",
    "        return 0\n",
    "def cocaina(row):\n",
    "    if ((row['BICO04'] == 1) | (row['BICO06'] == 1) | (row['BICO11'] == 1) | \n",
    "        (row['BICO12'] == 1) | (row['BICO13'] == 1) | (row['BICO14'] == 1) | (row['BICO16'] == 1)):\n",
    "        return 1\n",
    "    else:\n",
    "        return 0\n",
    "def pastabase(row):\n",
    "    if ((row['BIPB04'] == 1) | (row['BIPB06'] == 1) | (row['BIPB11'] == 1) | \n",
    "        (row['BIPB12'] == 1) | (row['BIPB13'] == 1) | (row['BIPB14'] == 1) | (row['BIPB16'] == 1)):\n",
    "        return 1\n",
    "    else:\n",
    "        return 0\n",
    "def otras(row):\n",
    "    if ((row['BIEX04'] == 1) | (row['BIEX06'] == 1) | (row['BIEX11'] == 1) | \n",
    "        (row['BIEX12'] == 1) | (row['BIEX13'] == 1) | (row['BIEX15'] == 1) | \n",
    "        (row['BIEX14'] == 1) | (row['BIEX16'] == 1) | (row['BIES08'] >= 3) | \n",
    "        (row['BITR08'] >= 10) | (row['BIIN01'] == 1)):\n",
    "        return 1\n",
    "    else:\n",
    "        return 0\n",
    "def tratamientos(row):\n",
    "    if ((row['BIDT01'] == 1) | (row['BIDT03'] in {1, 2})):\n",
    "        return 1\n",
    "    else:\n",
    "        return 0"
   ]
  },
  {
   "cell_type": "code",
   "execution_count": 34,
   "metadata": {},
   "outputs": [],
   "source": [
    "tar = pd.DataFrame()\n",
    "tar['Tabaco'] = dftotal.apply(tabaco, axis = 1)\n",
    "tar['Marihuana'] = dftotal.apply(marihuana, axis = 1)\n",
    "tar['Cocaina'] = dftotal.apply(cocaina, axis = 1)\n",
    "tar['Alcohol'] = dftotal.apply(alcohol, axis = 1)\n",
    "tar['Otras'] = dftotal.apply(otras, axis = 1)\n",
    "tar['Tratamiento'] = dftotal.apply(tratamientos, axis = 1)"
   ]
  },
  {
   "cell_type": "code",
   "execution_count": 35,
   "metadata": {
    "scrolled": true
   },
   "outputs": [
    {
     "data": {
      "text/html": [
       "<div>\n",
       "<style scoped>\n",
       "    .dataframe tbody tr th:only-of-type {\n",
       "        vertical-align: middle;\n",
       "    }\n",
       "\n",
       "    .dataframe tbody tr th {\n",
       "        vertical-align: top;\n",
       "    }\n",
       "\n",
       "    .dataframe thead th {\n",
       "        text-align: right;\n",
       "    }\n",
       "</style>\n",
       "<table border=\"1\" class=\"dataframe\">\n",
       "  <thead>\n",
       "    <tr style=\"text-align: right;\">\n",
       "      <th></th>\n",
       "      <th>Tabaco</th>\n",
       "      <th>Marihuana</th>\n",
       "      <th>Cocaina</th>\n",
       "      <th>Alcohol</th>\n",
       "      <th>Otras</th>\n",
       "      <th>Tratamiento</th>\n",
       "    </tr>\n",
       "  </thead>\n",
       "  <tbody>\n",
       "    <tr>\n",
       "      <td>63995</td>\n",
       "      <td>0</td>\n",
       "      <td>0</td>\n",
       "      <td>0</td>\n",
       "      <td>0</td>\n",
       "      <td>0</td>\n",
       "      <td>0</td>\n",
       "    </tr>\n",
       "    <tr>\n",
       "      <td>30786</td>\n",
       "      <td>1</td>\n",
       "      <td>0</td>\n",
       "      <td>0</td>\n",
       "      <td>0</td>\n",
       "      <td>0</td>\n",
       "      <td>0</td>\n",
       "    </tr>\n",
       "    <tr>\n",
       "      <td>16261</td>\n",
       "      <td>0</td>\n",
       "      <td>0</td>\n",
       "      <td>0</td>\n",
       "      <td>0</td>\n",
       "      <td>0</td>\n",
       "      <td>0</td>\n",
       "    </tr>\n",
       "    <tr>\n",
       "      <td>26736</td>\n",
       "      <td>0</td>\n",
       "      <td>0</td>\n",
       "      <td>0</td>\n",
       "      <td>0</td>\n",
       "      <td>0</td>\n",
       "      <td>0</td>\n",
       "    </tr>\n",
       "    <tr>\n",
       "      <td>25817</td>\n",
       "      <td>1</td>\n",
       "      <td>0</td>\n",
       "      <td>0</td>\n",
       "      <td>0</td>\n",
       "      <td>0</td>\n",
       "      <td>0</td>\n",
       "    </tr>\n",
       "  </tbody>\n",
       "</table>\n",
       "</div>"
      ],
      "text/plain": [
       "       Tabaco  Marihuana  Cocaina  Alcohol  Otras  Tratamiento\n",
       "63995       0          0        0        0      0            0\n",
       "30786       1          0        0        0      0            0\n",
       "16261       0          0        0        0      0            0\n",
       "26736       0          0        0        0      0            0\n",
       "25817       1          0        0        0      0            0"
      ]
     },
     "execution_count": 35,
     "metadata": {},
     "output_type": "execute_result"
    }
   ],
   "source": [
    "tar.sample(5)"
   ]
  },
  {
   "cell_type": "code",
   "execution_count": 36,
   "metadata": {},
   "outputs": [
    {
     "data": {
      "text/html": [
       "<div>\n",
       "<style scoped>\n",
       "    .dataframe tbody tr th:only-of-type {\n",
       "        vertical-align: middle;\n",
       "    }\n",
       "\n",
       "    .dataframe tbody tr th {\n",
       "        vertical-align: top;\n",
       "    }\n",
       "\n",
       "    .dataframe thead th {\n",
       "        text-align: right;\n",
       "    }\n",
       "</style>\n",
       "<table border=\"1\" class=\"dataframe\">\n",
       "  <thead>\n",
       "    <tr style=\"text-align: right;\">\n",
       "      <th></th>\n",
       "      <th>IDENTIFI</th>\n",
       "      <th>W_PERS</th>\n",
       "      <th>REGION</th>\n",
       "      <th>POB_URB</th>\n",
       "      <th>AGL_URB</th>\n",
       "      <th>BHCV01</th>\n",
       "      <th>BHCV02</th>\n",
       "      <th>BHCV03</th>\n",
       "      <th>BHCV04</th>\n",
       "      <th>BHCV05</th>\n",
       "      <th>...</th>\n",
       "      <th>BIDT02_06</th>\n",
       "      <th>BIDT02_07</th>\n",
       "      <th>BIDT02_08</th>\n",
       "      <th>BIDT02_09</th>\n",
       "      <th>BIDT02_10</th>\n",
       "      <th>BIDT02_11</th>\n",
       "      <th>BIDT02_12</th>\n",
       "      <th>BIDT02_13</th>\n",
       "      <th>BIDT03</th>\n",
       "      <th>Año</th>\n",
       "    </tr>\n",
       "  </thead>\n",
       "  <tbody>\n",
       "    <tr>\n",
       "      <td>0</td>\n",
       "      <td>25662899.0</td>\n",
       "      <td>3108.0</td>\n",
       "      <td>2</td>\n",
       "      <td>3</td>\n",
       "      <td>8</td>\n",
       "      <td>1</td>\n",
       "      <td>1.0</td>\n",
       "      <td>1</td>\n",
       "      <td>1</td>\n",
       "      <td>2</td>\n",
       "      <td>...</td>\n",
       "      <td>NaN</td>\n",
       "      <td>NaN</td>\n",
       "      <td>NaN</td>\n",
       "      <td>NaN</td>\n",
       "      <td>NaN</td>\n",
       "      <td>NaN</td>\n",
       "      <td>NaN</td>\n",
       "      <td>NaN</td>\n",
       "      <td>NaN</td>\n",
       "      <td>2008</td>\n",
       "    </tr>\n",
       "    <tr>\n",
       "      <td>1</td>\n",
       "      <td>77993054.0</td>\n",
       "      <td>3238.0</td>\n",
       "      <td>2</td>\n",
       "      <td>3</td>\n",
       "      <td>8</td>\n",
       "      <td>1</td>\n",
       "      <td>2.0</td>\n",
       "      <td>2</td>\n",
       "      <td>2</td>\n",
       "      <td>1</td>\n",
       "      <td>...</td>\n",
       "      <td>NaN</td>\n",
       "      <td>NaN</td>\n",
       "      <td>NaN</td>\n",
       "      <td>NaN</td>\n",
       "      <td>NaN</td>\n",
       "      <td>NaN</td>\n",
       "      <td>NaN</td>\n",
       "      <td>NaN</td>\n",
       "      <td>NaN</td>\n",
       "      <td>2008</td>\n",
       "    </tr>\n",
       "    <tr>\n",
       "      <td>2</td>\n",
       "      <td>98825711.0</td>\n",
       "      <td>1415.0</td>\n",
       "      <td>2</td>\n",
       "      <td>3</td>\n",
       "      <td>8</td>\n",
       "      <td>1</td>\n",
       "      <td>2.0</td>\n",
       "      <td>2</td>\n",
       "      <td>1</td>\n",
       "      <td>1</td>\n",
       "      <td>...</td>\n",
       "      <td>NaN</td>\n",
       "      <td>NaN</td>\n",
       "      <td>NaN</td>\n",
       "      <td>NaN</td>\n",
       "      <td>NaN</td>\n",
       "      <td>NaN</td>\n",
       "      <td>NaN</td>\n",
       "      <td>NaN</td>\n",
       "      <td>NaN</td>\n",
       "      <td>2008</td>\n",
       "    </tr>\n",
       "    <tr>\n",
       "      <td>3</td>\n",
       "      <td>58165012.0</td>\n",
       "      <td>1114.0</td>\n",
       "      <td>2</td>\n",
       "      <td>3</td>\n",
       "      <td>8</td>\n",
       "      <td>2</td>\n",
       "      <td>2.0</td>\n",
       "      <td>2</td>\n",
       "      <td>1</td>\n",
       "      <td>1</td>\n",
       "      <td>...</td>\n",
       "      <td>NaN</td>\n",
       "      <td>NaN</td>\n",
       "      <td>NaN</td>\n",
       "      <td>NaN</td>\n",
       "      <td>NaN</td>\n",
       "      <td>NaN</td>\n",
       "      <td>NaN</td>\n",
       "      <td>NaN</td>\n",
       "      <td>NaN</td>\n",
       "      <td>2008</td>\n",
       "    </tr>\n",
       "    <tr>\n",
       "      <td>4</td>\n",
       "      <td>80083154.0</td>\n",
       "      <td>1573.0</td>\n",
       "      <td>2</td>\n",
       "      <td>3</td>\n",
       "      <td>8</td>\n",
       "      <td>1</td>\n",
       "      <td>3.0</td>\n",
       "      <td>3</td>\n",
       "      <td>2</td>\n",
       "      <td>2</td>\n",
       "      <td>...</td>\n",
       "      <td>NaN</td>\n",
       "      <td>NaN</td>\n",
       "      <td>NaN</td>\n",
       "      <td>NaN</td>\n",
       "      <td>NaN</td>\n",
       "      <td>NaN</td>\n",
       "      <td>NaN</td>\n",
       "      <td>NaN</td>\n",
       "      <td>NaN</td>\n",
       "      <td>2008</td>\n",
       "    </tr>\n",
       "  </tbody>\n",
       "</table>\n",
       "<p>5 rows × 273 columns</p>\n",
       "</div>"
      ],
      "text/plain": [
       "     IDENTIFI  W_PERS  REGION  POB_URB  AGL_URB  BHCV01  BHCV02  BHCV03  \\\n",
       "0  25662899.0  3108.0       2        3        8       1     1.0       1   \n",
       "1  77993054.0  3238.0       2        3        8       1     2.0       2   \n",
       "2  98825711.0  1415.0       2        3        8       1     2.0       2   \n",
       "3  58165012.0  1114.0       2        3        8       2     2.0       2   \n",
       "4  80083154.0  1573.0       2        3        8       1     3.0       3   \n",
       "\n",
       "   BHCV04  BHCV05  ...  BIDT02_06  BIDT02_07  BIDT02_08  BIDT02_09  BIDT02_10  \\\n",
       "0       1       2  ...        NaN        NaN        NaN        NaN        NaN   \n",
       "1       2       1  ...        NaN        NaN        NaN        NaN        NaN   \n",
       "2       1       1  ...        NaN        NaN        NaN        NaN        NaN   \n",
       "3       1       1  ...        NaN        NaN        NaN        NaN        NaN   \n",
       "4       2       2  ...        NaN        NaN        NaN        NaN        NaN   \n",
       "\n",
       "   BIDT02_11  BIDT02_12  BIDT02_13  BIDT03   Año  \n",
       "0        NaN        NaN        NaN     NaN  2008  \n",
       "1        NaN        NaN        NaN     NaN  2008  \n",
       "2        NaN        NaN        NaN     NaN  2008  \n",
       "3        NaN        NaN        NaN     NaN  2008  \n",
       "4        NaN        NaN        NaN     NaN  2008  \n",
       "\n",
       "[5 rows x 273 columns]"
      ]
     },
     "execution_count": 36,
     "metadata": {},
     "output_type": "execute_result"
    }
   ],
   "source": [
    "dftotal.head()"
   ]
  },
  {
   "cell_type": "code",
   "execution_count": 37,
   "metadata": {},
   "outputs": [
    {
     "data": {
      "text/plain": [
       "53574"
      ]
     },
     "execution_count": 37,
     "metadata": {},
     "output_type": "execute_result"
    }
   ],
   "source": [
    "#Desde el 62 son cuestionarios\n",
    "dftotal.iloc[:,:62][dftotal['BITR01'] == 2].count()[0]"
   ]
  },
  {
   "cell_type": "code",
   "execution_count": 38,
   "metadata": {},
   "outputs": [
    {
     "data": {
      "text/html": [
       "<div>\n",
       "<style scoped>\n",
       "    .dataframe tbody tr th:only-of-type {\n",
       "        vertical-align: middle;\n",
       "    }\n",
       "\n",
       "    .dataframe tbody tr th {\n",
       "        vertical-align: top;\n",
       "    }\n",
       "\n",
       "    .dataframe thead th {\n",
       "        text-align: right;\n",
       "    }\n",
       "</style>\n",
       "<table border=\"1\" class=\"dataframe\">\n",
       "  <thead>\n",
       "    <tr style=\"text-align: right;\">\n",
       "      <th></th>\n",
       "      <th>BITR01</th>\n",
       "      <th>BITR02</th>\n",
       "      <th>BITR03</th>\n",
       "      <th>BITR04</th>\n",
       "      <th>BITR05</th>\n",
       "      <th>BITR06</th>\n",
       "      <th>BITR07_01</th>\n",
       "      <th>BITR07_02</th>\n",
       "      <th>BITR07_03</th>\n",
       "      <th>BITR07_04</th>\n",
       "      <th>BITR07_05</th>\n",
       "      <th>BITR07_09</th>\n",
       "      <th>BITR08</th>\n",
       "      <th>BITR09_01</th>\n",
       "      <th>BITR09_02</th>\n",
       "    </tr>\n",
       "  </thead>\n",
       "  <tbody>\n",
       "    <tr>\n",
       "      <td>0</td>\n",
       "      <td>2</td>\n",
       "      <td>NaN</td>\n",
       "      <td>NaN</td>\n",
       "      <td>NaN</td>\n",
       "      <td>NaN</td>\n",
       "      <td>NaN</td>\n",
       "      <td>NaN</td>\n",
       "      <td>NaN</td>\n",
       "      <td>NaN</td>\n",
       "      <td>NaN</td>\n",
       "      <td>NaN</td>\n",
       "      <td>NaN</td>\n",
       "      <td>NaN</td>\n",
       "      <td>2</td>\n",
       "      <td>3</td>\n",
       "    </tr>\n",
       "    <tr>\n",
       "      <td>1</td>\n",
       "      <td>2</td>\n",
       "      <td>NaN</td>\n",
       "      <td>NaN</td>\n",
       "      <td>NaN</td>\n",
       "      <td>NaN</td>\n",
       "      <td>NaN</td>\n",
       "      <td>NaN</td>\n",
       "      <td>NaN</td>\n",
       "      <td>NaN</td>\n",
       "      <td>NaN</td>\n",
       "      <td>NaN</td>\n",
       "      <td>NaN</td>\n",
       "      <td>NaN</td>\n",
       "      <td>3</td>\n",
       "      <td>3</td>\n",
       "    </tr>\n",
       "    <tr>\n",
       "      <td>2</td>\n",
       "      <td>2</td>\n",
       "      <td>NaN</td>\n",
       "      <td>NaN</td>\n",
       "      <td>NaN</td>\n",
       "      <td>NaN</td>\n",
       "      <td>NaN</td>\n",
       "      <td>NaN</td>\n",
       "      <td>NaN</td>\n",
       "      <td>NaN</td>\n",
       "      <td>NaN</td>\n",
       "      <td>NaN</td>\n",
       "      <td>NaN</td>\n",
       "      <td>NaN</td>\n",
       "      <td>3</td>\n",
       "      <td>3</td>\n",
       "    </tr>\n",
       "    <tr>\n",
       "      <td>3</td>\n",
       "      <td>2</td>\n",
       "      <td>NaN</td>\n",
       "      <td>NaN</td>\n",
       "      <td>NaN</td>\n",
       "      <td>NaN</td>\n",
       "      <td>NaN</td>\n",
       "      <td>NaN</td>\n",
       "      <td>NaN</td>\n",
       "      <td>NaN</td>\n",
       "      <td>NaN</td>\n",
       "      <td>NaN</td>\n",
       "      <td>NaN</td>\n",
       "      <td>NaN</td>\n",
       "      <td>4</td>\n",
       "      <td>4</td>\n",
       "    </tr>\n",
       "    <tr>\n",
       "      <td>4</td>\n",
       "      <td>2</td>\n",
       "      <td>NaN</td>\n",
       "      <td>NaN</td>\n",
       "      <td>NaN</td>\n",
       "      <td>NaN</td>\n",
       "      <td>NaN</td>\n",
       "      <td>NaN</td>\n",
       "      <td>NaN</td>\n",
       "      <td>NaN</td>\n",
       "      <td>NaN</td>\n",
       "      <td>NaN</td>\n",
       "      <td>NaN</td>\n",
       "      <td>NaN</td>\n",
       "      <td>3</td>\n",
       "      <td>4</td>\n",
       "    </tr>\n",
       "  </tbody>\n",
       "</table>\n",
       "</div>"
      ],
      "text/plain": [
       "   BITR01  BITR02  BITR03  BITR04  BITR05  BITR06  BITR07_01  BITR07_02  \\\n",
       "0       2     NaN     NaN     NaN     NaN     NaN        NaN        NaN   \n",
       "1       2     NaN     NaN     NaN     NaN     NaN        NaN        NaN   \n",
       "2       2     NaN     NaN     NaN     NaN     NaN        NaN        NaN   \n",
       "3       2     NaN     NaN     NaN     NaN     NaN        NaN        NaN   \n",
       "4       2     NaN     NaN     NaN     NaN     NaN        NaN        NaN   \n",
       "\n",
       "   BITR07_03  BITR07_04  BITR07_05  BITR07_09  BITR08  BITR09_01  BITR09_02  \n",
       "0        NaN        NaN        NaN        NaN     NaN          2          3  \n",
       "1        NaN        NaN        NaN        NaN     NaN          3          3  \n",
       "2        NaN        NaN        NaN        NaN     NaN          3          3  \n",
       "3        NaN        NaN        NaN        NaN     NaN          4          4  \n",
       "4        NaN        NaN        NaN        NaN     NaN          3          4  "
      ]
     },
     "execution_count": 38,
     "metadata": {},
     "output_type": "execute_result"
    }
   ],
   "source": [
    "bitr = [c for c in dftotal.columns if c[:4] == 'BITR']\n",
    "dftotal[dftotal['BITR01'] == 2].loc[:,bitr].head()"
   ]
  },
  {
   "cell_type": "markdown",
   "metadata": {},
   "source": [
    "### Modelado"
   ]
  },
  {
   "cell_type": "code",
   "execution_count": 40,
   "metadata": {},
   "outputs": [
    {
     "name": "stdout",
     "output_type": "stream",
     "text": [
      "Collecting xgboost\n",
      "\u001b[?25l  Downloading https://files.pythonhosted.org/packages/70/91/551d37ba472bcbd70a25e667acc65a18a9d053657b13afcf0f87aa24d7bb/xgboost-1.0.2-py3-none-manylinux1_x86_64.whl (109.7MB)\n",
      "\u001b[K     |████████████████████████████████| 109.8MB 11.0MB/s eta 0:00:01\n",
      "\u001b[?25hRequirement already satisfied: scipy in /home/matias/anaconda3/lib/python3.7/site-packages (from xgboost) (1.3.1)\n",
      "Requirement already satisfied: numpy in /home/matias/anaconda3/lib/python3.7/site-packages (from xgboost) (1.17.2)\n",
      "Installing collected packages: xgboost\n",
      "Successfully installed xgboost-1.0.2\n"
     ]
    }
   ],
   "source": [
    "#Importamos las funciones que usaremos\n",
    "!pip install xgboost\n",
    "from sklearn.metrics import roc_auc_score, classification_report\n",
    "from sklearn.ensemble import RandomForestClassifier\n",
    "from sklearn.model_selection import cross_val_score, GridSearchCV, RandomizedSearchCV, train_test_split, StratifiedKFold\n",
    "from sklearn.pipeline import make_pipeline\n",
    "import xgboost"
   ]
  },
  {
   "cell_type": "code",
   "execution_count": 41,
   "metadata": {},
   "outputs": [],
   "source": [
    "#Devuelve las n features más importantes, con nombre y ordenadas\n",
    "def get_most_important(X, model, n):\n",
    "    return sorted(zip(X.columns, \n",
    "                      [str(round(i, 4)) for i in model.feature_importances_]), key = lambda x: x[1], reverse = True)[:n]"
   ]
  },
  {
   "cell_type": "code",
   "execution_count": 42,
   "metadata": {},
   "outputs": [],
   "source": [
    "#funcion para generar un modelo para cada droga\n",
    "def make_model(drug, params, X, y):\n",
    "    X_train, X_test, y_train, y_test = train_test_split(X, y, test_size=0.3, stratify = df_target)\n",
    "    model = RandomForestClassifier(**params)\n",
    "    model.fit(X_train, y_train[drug])\n",
    "    print('Cross val score: ', cross_val_score(model, X_test, y_test[drug]).mean())\n",
    "    print('Roc score:', roc_auc_score(y_test[drug], model.predict_proba(X_test)[:,1]))\n",
    "    print(classification_report(y_test[drug], model.predict(X_test)))\n",
    "    return model"
   ]
  },
  {
   "cell_type": "code",
   "execution_count": 43,
   "metadata": {},
   "outputs": [],
   "source": [
    "#Un wrapper sobre gridsearchCV. Uso recall de scoring para aumentar los positivos detectados\n",
    "def get_best(model, params, drug, X, y, scoring = None):\n",
    "    X_train, X_test, y_train, y_test = train_test_split(X, y, test_size=0.3, stratify = y[drug])\n",
    "    kf = StratifiedKFold(n_splits=5,shuffle=True,random_state=11)\n",
    "    param_search = RandomizedSearchCV(model,params, \n",
    "                              cv = kf, n_jobs = -1, tverbose = 1, scoring = 'recall')\n",
    "\n",
    "    param_search.fit(X, y[drug])\n",
    "    print('Best score: {}'.format(param_search.best_score_))\n",
    "    print('Best parameters: {}'.format(param_search.best_params_))\n",
    "    try:\n",
    "        print('Roc: {}'.format(roc_auc_score(y_test[drug], \n",
    "                                             param_search.best_estimator_.predict_proba(X_test)[:,1])))\n",
    "    except:\n",
    "        pass\n",
    "    print(classification_report(y_test[drug], param_search.predict(X_test)))\n",
    "    return param_search.best_estimator_"
   ]
  },
  {
   "cell_type": "code",
   "execution_count": 44,
   "metadata": {},
   "outputs": [],
   "source": [
    "nsnc = ['9', '99', '999', '888']\n",
    "features = [c for c in dftotal.columns][2:62] + ['BITA03', 'BITA09_01', 'BITA09_02', 'BIBA03', 'BIBA14_01', 'BIBA14_02',\n",
    "            'BITR01','BITR05', 'BITR06', 'BITR09_01']\n",
    "X = pd.get_dummies(dftotal.loc[:, features])"
   ]
  },
  {
   "cell_type": "code",
   "execution_count": 45,
   "metadata": {},
   "outputs": [],
   "source": [
    "Xtrain, Xtest, ytrain, ytest = train_test_split(X, tar, test_size = 0.3)"
   ]
  },
  {
   "cell_type": "code",
   "execution_count": 46,
   "metadata": {},
   "outputs": [],
   "source": [
    "xgb = xgboost.XGBClassifier()"
   ]
  },
  {
   "cell_type": "code",
   "execution_count": 47,
   "metadata": {},
   "outputs": [],
   "source": [
    "params_xgb = {'n_estimators': [25, 50, 75, 100, 125, 150, 160, 170, 180, 190]}\n",
    "#300"
   ]
  },
  {
   "cell_type": "code",
   "execution_count": 48,
   "metadata": {},
   "outputs": [
    {
     "data": {
      "text/plain": [
       "\"\\n'max_depth': range(3,10,1)\\n'min_child_weight':[1, 2, 4, 6, 8, 10, 12],\\n 'gamma':[1/i for i in range(1,100)],\\n 'subsample':[1/i for i in range(1,100)],\\n 'colsample_bytree':[1/i for i in range(1,50)], \\n\""
      ]
     },
     "execution_count": 48,
     "metadata": {},
     "output_type": "execute_result"
    }
   ],
   "source": [
    "params_xgb = {'n_estimators': [5, 20, 30,  50, 100, 125, 150, 175, 190, 200],\n",
    "              'learning_rate': [1/i for i in range(1, 100, 3)],\n",
    "              'reg_alpha':[1e-10, 1e-5, 1e-2, 0.1, 1, 10, 20, 50, 100]}\n",
    " \n",
    "'''\n",
    "'max_depth': range(3,10,1)\n",
    "'min_child_weight':[1, 2, 4, 6, 8, 10, 12],\n",
    " 'gamma':[1/i for i in range(1,100)],\n",
    " 'subsample':[1/i for i in range(1,100)],\n",
    " 'colsample_bytree':[1/i for i in range(1,50)], \n",
    "'''"
   ]
  },
  {
   "cell_type": "code",
   "execution_count": 49,
   "metadata": {},
   "outputs": [
    {
     "name": "stdout",
     "output_type": "stream",
     "text": [
      "Fitting 5 folds for each of 10 candidates, totalling 50 fits\n"
     ]
    },
    {
     "name": "stderr",
     "output_type": "stream",
     "text": [
      "[Parallel(n_jobs=-1)]: Using backend LokyBackend with 8 concurrent workers.\n",
      "[Parallel(n_jobs=-1)]: Done  34 tasks      | elapsed:   43.8s\n",
      "[Parallel(n_jobs=-1)]: Done  50 out of  50 | elapsed:  1.4min finished\n"
     ]
    },
    {
     "name": "stdout",
     "output_type": "stream",
     "text": [
      "Best score: 0.19184134631143884\n",
      "Best parameters: {'reg_alpha': 10, 'n_estimators': 200, 'learning_rate': 0.03571428571428571}\n",
      "Roc: 0.9906080101486047\n",
      "              precision    recall  f1-score   support\n",
      "\n",
      "           0       0.99      1.00      1.00     14240\n",
      "           1       0.80      0.26      0.39       155\n",
      "\n",
      "    accuracy                           0.99     14395\n",
      "   macro avg       0.90      0.63      0.69     14395\n",
      "weighted avg       0.99      0.99      0.99     14395\n",
      "\n",
      "CPU times: user 55.8 s, sys: 731 ms, total: 56.6 s\n",
      "Wall time: 1min 33s\n"
     ]
    }
   ],
   "source": [
    "%%time\n",
    "marihuana = get_best(xgb, params_xgb, 'Marihuana', Xtrain, ytrain)"
   ]
  },
  {
   "cell_type": "code",
   "execution_count": 50,
   "metadata": {},
   "outputs": [
    {
     "data": {
      "text/plain": [
       "XGBClassifier(base_score=0.5, booster=None, colsample_bylevel=1,\n",
       "              colsample_bynode=1, colsample_bytree=1, gamma=0, gpu_id=-1,\n",
       "              importance_type='gain', interaction_constraints=None,\n",
       "              learning_rate=0.03571428571428571, max_delta_step=0, max_depth=6,\n",
       "              min_child_weight=1, missing=nan, monotone_constraints=None,\n",
       "              n_estimators=200, n_jobs=0, num_parallel_tree=1,\n",
       "              objective='binary:logistic', random_state=0, reg_alpha=10,\n",
       "              reg_lambda=1, scale_pos_weight=1, subsample=1, tree_method=None,\n",
       "              validate_parameters=False, verbosity=None)"
      ]
     },
     "execution_count": 50,
     "metadata": {},
     "output_type": "execute_result"
    }
   ],
   "source": [
    "marihuana"
   ]
  },
  {
   "cell_type": "code",
   "execution_count": 51,
   "metadata": {},
   "outputs": [
    {
     "name": "stdout",
     "output_type": "stream",
     "text": [
      "Fitting 5 folds for each of 10 candidates, totalling 50 fits\n"
     ]
    },
    {
     "name": "stderr",
     "output_type": "stream",
     "text": [
      "[Parallel(n_jobs=-1)]: Using backend LokyBackend with 8 concurrent workers.\n",
      "[Parallel(n_jobs=-1)]: Done  34 tasks      | elapsed:  2.0min\n",
      "[Parallel(n_jobs=-1)]: Done  50 out of  50 | elapsed:  2.3min finished\n"
     ]
    },
    {
     "name": "stdout",
     "output_type": "stream",
     "text": [
      "Best score: 0.8805327726521394\n",
      "Best parameters: {'reg_alpha': 1, 'n_estimators': 190, 'learning_rate': 0.011764705882352941}\n",
      "Roc: 0.8544503522176115\n",
      "              precision    recall  f1-score   support\n",
      "\n",
      "           0       0.87      0.66      0.75      7617\n",
      "           1       0.70      0.89      0.79      6778\n",
      "\n",
      "    accuracy                           0.77     14395\n",
      "   macro avg       0.79      0.78      0.77     14395\n",
      "weighted avg       0.79      0.77      0.77     14395\n",
      "\n",
      "CPU times: user 52.9 s, sys: 614 ms, total: 53.5 s\n",
      "Wall time: 2min 22s\n"
     ]
    }
   ],
   "source": [
    "%%time\n",
    "alcohol = get_best(xgb, params_xgb, 'Alcohol', Xtrain, ytrain)"
   ]
  },
  {
   "cell_type": "code",
   "execution_count": 52,
   "metadata": {},
   "outputs": [
    {
     "name": "stdout",
     "output_type": "stream",
     "text": [
      "Fitting 5 folds for each of 10 candidates, totalling 50 fits\n"
     ]
    },
    {
     "name": "stderr",
     "output_type": "stream",
     "text": [
      "[Parallel(n_jobs=-1)]: Using backend LokyBackend with 8 concurrent workers.\n",
      "[Parallel(n_jobs=-1)]: Done  34 tasks      | elapsed:  1.6min\n",
      "[Parallel(n_jobs=-1)]: Done  50 out of  50 | elapsed:  2.3min finished\n"
     ]
    },
    {
     "name": "stdout",
     "output_type": "stream",
     "text": [
      "Best score: 0.8556312635357513\n",
      "Best parameters: {'reg_alpha': 50, 'n_estimators': 125, 'learning_rate': 0.010638297872340425}\n",
      "Roc: 0.8888705547231083\n",
      "              precision    recall  f1-score   support\n",
      "\n",
      "           0       0.92      0.78      0.85     10114\n",
      "           1       0.63      0.85      0.72      4281\n",
      "\n",
      "    accuracy                           0.80     14395\n",
      "   macro avg       0.78      0.82      0.78     14395\n",
      "weighted avg       0.84      0.80      0.81     14395\n",
      "\n",
      "CPU times: user 40 s, sys: 410 ms, total: 40.5 s\n",
      "Wall time: 2min 24s\n"
     ]
    }
   ],
   "source": [
    "%%time\n",
    "tabaco = get_best(xgb, params_xgb, 'Tabaco', Xtrain, ytrain)"
   ]
  },
  {
   "cell_type": "code",
   "execution_count": 53,
   "metadata": {},
   "outputs": [
    {
     "name": "stdout",
     "output_type": "stream",
     "text": [
      "Fitting 5 folds for each of 10 candidates, totalling 50 fits\n"
     ]
    },
    {
     "name": "stderr",
     "output_type": "stream",
     "text": [
      "[Parallel(n_jobs=-1)]: Using backend LokyBackend with 8 concurrent workers.\n",
      "[Parallel(n_jobs=-1)]: Done  34 tasks      | elapsed:  1.0min\n",
      "[Parallel(n_jobs=-1)]: Done  50 out of  50 | elapsed:  1.4min finished\n"
     ]
    },
    {
     "name": "stdout",
     "output_type": "stream",
     "text": [
      "Best score: 0.04280440392419885\n",
      "Best parameters: {'reg_alpha': 1e-10, 'n_estimators': 50, 'learning_rate': 0.0625}\n",
      "Roc: 0.9608523459572036\n",
      "              precision    recall  f1-score   support\n",
      "\n",
      "           0       1.00      1.00      1.00     14346\n",
      "           1       0.92      0.24      0.39        49\n",
      "\n",
      "    accuracy                           1.00     14395\n",
      "   macro avg       0.96      0.62      0.69     14395\n",
      "weighted avg       1.00      1.00      1.00     14395\n",
      "\n",
      "CPU times: user 12.1 s, sys: 191 ms, total: 12.3 s\n",
      "Wall time: 1min 25s\n"
     ]
    }
   ],
   "source": [
    "%%time\n",
    "cocaina = get_best(xgb, params_xgb, 'Cocaina', Xtrain, ytrain)"
   ]
  },
  {
   "cell_type": "code",
   "execution_count": 54,
   "metadata": {},
   "outputs": [
    {
     "name": "stdout",
     "output_type": "stream",
     "text": [
      "Fitting 5 folds for each of 10 candidates, totalling 50 fits\n"
     ]
    },
    {
     "name": "stderr",
     "output_type": "stream",
     "text": [
      "[Parallel(n_jobs=-1)]: Using backend LokyBackend with 8 concurrent workers.\n",
      "[Parallel(n_jobs=-1)]: Done  34 tasks      | elapsed:  1.2min\n",
      "[Parallel(n_jobs=-1)]: Done  50 out of  50 | elapsed:  1.5min finished\n"
     ]
    },
    {
     "name": "stdout",
     "output_type": "stream",
     "text": [
      "Best score: 0.026125996000728437\n",
      "Best parameters: {'reg_alpha': 1e-10, 'n_estimators': 5, 'learning_rate': 1.0}\n",
      "Roc: 0.9174698813671174\n",
      "              precision    recall  f1-score   support\n",
      "\n",
      "           0       0.99      1.00      0.99     14165\n",
      "           1       0.84      0.09      0.16       230\n",
      "\n",
      "    accuracy                           0.99     14395\n",
      "   macro avg       0.91      0.55      0.58     14395\n",
      "weighted avg       0.98      0.99      0.98     14395\n",
      "\n"
     ]
    }
   ],
   "source": [
    "tratamiento = get_best(xgb, params_xgb, 'Tratamiento', Xtrain, ytrain)"
   ]
  },
  {
   "cell_type": "code",
   "execution_count": null,
   "metadata": {},
   "outputs": [
    {
     "name": "stdout",
     "output_type": "stream",
     "text": [
      "Fitting 5 folds for each of 10 candidates, totalling 50 fits\n"
     ]
    },
    {
     "name": "stderr",
     "output_type": "stream",
     "text": [
      "[Parallel(n_jobs=-1)]: Using backend LokyBackend with 8 concurrent workers.\n"
     ]
    }
   ],
   "source": [
    "otras = get_best(xgb, params_xgb, 'Otras', Xtrain, ytrain)"
   ]
  },
  {
   "cell_type": "code",
   "execution_count": null,
   "metadata": {},
   "outputs": [],
   "source": []
  }
 ],
 "metadata": {
  "kernelspec": {
   "display_name": "Python 3",
   "language": "python",
   "name": "python3"
  },
  "language_info": {
   "codemirror_mode": {
    "name": "ipython",
    "version": 3
   },
   "file_extension": ".py",
   "mimetype": "text/x-python",
   "name": "python",
   "nbconvert_exporter": "python",
   "pygments_lexer": "ipython3",
   "version": "3.7.4"
  }
 },
 "nbformat": 4,
 "nbformat_minor": 4
}
