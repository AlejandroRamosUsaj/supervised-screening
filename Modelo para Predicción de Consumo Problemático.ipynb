{
 "cells": [
  {
   "cell_type": "markdown",
   "metadata": {},
   "source": [
    "<center><b><font size = 6>Consumo de Sustancias Psicoactivas"
   ]
  },
  {
   "cell_type": "raw",
   "metadata": {},
   "source": [
    "    El consumo de sustancias psicoactivas es un tema importante en la sociedad, ya que al consumirse masivamente influye globalmente en la salud de la población. Involucra un mercado lícito e ilícito de gran capital, e impacta las dimensiones de lo social, cultural, político, sanitario, económico, entre otras. Además de dañar progresivamente a la salud, existen trastornos exclusivos relacionados a las mismas, como abuso, dependencia o adicción. En casos graves, puede desencadenar otros problemas como depresión o psicósis. \n",
    "    Por esto es de máxima importancia entender los factores que ocasionan el consumo, y poseer herramientas de las ciencias de la salud para prevenirlo. Para esto, el Instituto Nacional de Estadística y Censos de la República Argentina (INDEC), que es el organismo que unifica y ejerce la mayor parte de las actividades estadísticas oficiales, nos proporciona un importante set de datos de la Encuesta Nacional sobre Prevalencias de Consumo de Sustancias Psicoactivas del año 2011, con variables que contemplan múltiples aspectos de la vida del individuo."
   ]
  },
  {
   "cell_type": "markdown",
   "metadata": {},
   "source": [
    "Base 2011:\n",
    "http://www.indec.gov.ar/ftp/cuadros/menusuperior/enprecosp/bases_enprecosp2011.rar\n",
    "\n",
    "Documento:\n",
    "http://www.indec.gov.ar/ftp/cuadros/menusuperior/enprecosp/enprecosp_2011_documento_baseusuario.pdf\n",
    "\n",
    "Ejemplo cuestionario:\n",
    "http://www.indec.gov.ar/ftp/cuadros/menusuperior/enprecosp/cuestionarios_enprecosp2011.pdf"
   ]
  },
  {
   "cell_type": "markdown",
   "metadata": {},
   "source": [
    "### Variables ###"
   ]
  },
  {
   "cell_type": "markdown",
   "metadata": {},
   "source": [
    "- Dominios de estimación geográfica: \n",
    " - Región estadística\n",
    " - Agrupamiento de poblaciones urbanas\n",
    " - Jurisdicción del país\n",
    " - Aglomerado urbano de 500.000 y más habitantes\n",
    "- Características de la vivienda donde reside la persona seleccionada\n",
    " - Tipo de vivienda\n",
    " - Cantidad de habitaciones\n",
    " - Material predominante de los pisos\n",
    " - Material predominante de la cubierta exterior del techo\n",
    " - Tenencia de cielorraso/revestimiento interior\n",
    " - Combustible usado para cocinar\n",
    " - Tenencia de agua\n",
    " - Forma de obtención del agua\n",
    " - Tenencia de baño\n",
    " - Características del baño\n",
    "- Características del hogar al que pertenece la persona seleccionada\n",
    " - Tamaño del hogar\n",
    " - Tipo de hogar\n",
    " - Ingreso total mensual del hogar\n",
    " - Indicadores de necesidades básicas insatisfechas del hogar\n",
    "- Características del jefe del hogar\n",
    " - Sexo\n",
    " - Edad\n",
    " - Situación conyugal\n",
    " - Nivel de instrucción\n",
    " - Cobertura de salud\n",
    " - Situación laboral\n",
    "- Características de la persona seleccionada\n",
    " - Relación de parentesco del seleccionado con el jefe\n",
    " - Sexo\n",
    " - Edad\n",
    " - Situación conyugal\n",
    " - Nivel de instrucción\n",
    " - Cobertura de salud\n",
    " - Situación laboral\n",
    "- Autopercepción de salud y entorno de la persona seleccionada\n",
    " - Salud general\n",
    " - Acceso y entorno\n",
    "- Consumo de sustancias psicoactivas de la persona seleccionada\n",
    " - Tabaco\n",
    " - Bebidas alcohólicas\n",
    " - Tranquilizantes\n",
    " - Estimulantes\n",
    " - Marihuana\n",
    " - Cocaína\n",
    " - Pasta base\n",
    " - Éxtasis\n",
    " - Inhalables\n",
    " - Otras drogas\n",
    "- Impacto del consumo en las actividades habituales de la persona seleccionada\n",
    " - Bebidas alcohólicas\n",
    " - Drogas y bebidas alcohólicas\n",
    "- Demanda de tratamiento de la persona seleccionada"
   ]
  },
  {
   "cell_type": "markdown",
   "metadata": {},
   "source": [
    "Estas variables nos permiten estimar distintos aspectos de la vida de la persona, como su situación económica, de hogar, hábitos, circunstancias de salud, etc, y así comprender que factores influyen en el consumo de drogas recreacionales."
   ]
  },
  {
   "cell_type": "markdown",
   "metadata": {},
   "source": [
    "### Para manejar los datos, importamos las librerias que necesitaremos:"
   ]
  },
  {
   "cell_type": "code",
   "execution_count": 1,
   "metadata": {
    "collapsed": false,
    "jupyter": {
     "outputs_hidden": false
    }
   },
   "outputs": [
    {
     "data": {
      "text/html": [
       "\n",
       "<style>\n",
       ".output_png {\n",
       "    display: table-cell;\n",
       "    text-align: center;\n",
       "    vertical-align: middle;\n",
       "}\n",
       "</style>\n"
      ],
      "text/plain": [
       "<IPython.core.display.HTML object>"
      ]
     },
     "execution_count": 1,
     "metadata": {},
     "output_type": "execute_result"
    }
   ],
   "source": [
    "%matplotlib inline\n",
    "import pandas as pd\n",
    "import os\n",
    "import re\n",
    "import matplotlib.pyplot as plt\n",
    "import scipy.stats as ss\n",
    "import seaborn as sns\n",
    "import numpy as np\n",
    "import warnings\n",
    "import scipy.stats as ss\n",
    "warnings.filterwarnings('ignore')\n",
    "from IPython.core.display import HTML\n",
    "HTML(\"\"\"\n",
    "<style>\n",
    ".output_png {\n",
    "    display: table-cell;\n",
    "    text-align: center;\n",
    "    vertical-align: middle;\n",
    "}\n",
    "</style>\n",
    "\"\"\")"
   ]
  },
  {
   "cell_type": "markdown",
   "metadata": {},
   "source": [
    "### Guardamos los datos en un DataFrame de Pandas y visualizamos parte del mismo"
   ]
  },
  {
   "cell_type": "code",
   "execution_count": 2,
   "metadata": {
    "collapsed": false,
    "jupyter": {
     "outputs_hidden": false
    }
   },
   "outputs": [
    {
     "name": "stdout",
     "output_type": "stream",
     "text": [
      "(34343, 291)\n",
      "<class 'pandas.core.frame.DataFrame'>\n",
      "RangeIndex: 34343 entries, 0 to 34342\n",
      "Columns: 291 entries, IDENTIFI to BIDT03\n",
      "dtypes: object(291)\n",
      "memory usage: 76.2+ MB\n"
     ]
    },
    {
     "data": {
      "text/html": [
       "<div>\n",
       "<style>\n",
       "    .dataframe thead tr:only-child th {\n",
       "        text-align: right;\n",
       "    }\n",
       "\n",
       "    .dataframe thead th {\n",
       "        text-align: left;\n",
       "    }\n",
       "\n",
       "    .dataframe tbody tr th {\n",
       "        vertical-align: top;\n",
       "    }\n",
       "</style>\n",
       "<table border=\"1\" class=\"dataframe\">\n",
       "  <thead>\n",
       "    <tr style=\"text-align: right;\">\n",
       "      <th></th>\n",
       "      <th>IDENTIFI</th>\n",
       "      <th>W_PERS</th>\n",
       "      <th>REGION</th>\n",
       "      <th>POB_URB</th>\n",
       "      <th>PRVNC</th>\n",
       "      <th>AGL_URB</th>\n",
       "      <th>BHCV01</th>\n",
       "      <th>BHCV02</th>\n",
       "      <th>BHCV03</th>\n",
       "      <th>BHCV04</th>\n",
       "      <th>...</th>\n",
       "      <th>BIDT02_05</th>\n",
       "      <th>BIDT02_06</th>\n",
       "      <th>BIDT02_07</th>\n",
       "      <th>BIDT02_08</th>\n",
       "      <th>BIDT02_09</th>\n",
       "      <th>BIDT02_10</th>\n",
       "      <th>BIDT02_11</th>\n",
       "      <th>BIDT02_12</th>\n",
       "      <th>BIDT02_13</th>\n",
       "      <th>BIDT03</th>\n",
       "    </tr>\n",
       "  </thead>\n",
       "  <tbody>\n",
       "    <tr>\n",
       "      <th>0</th>\n",
       "      <td>61301445099</td>\n",
       "      <td>3787</td>\n",
       "      <td>1</td>\n",
       "      <td>4</td>\n",
       "      <td>6</td>\n",
       "      <td>1</td>\n",
       "      <td>3</td>\n",
       "      <td>4</td>\n",
       "      <td>1</td>\n",
       "      <td>1</td>\n",
       "      <td>...</td>\n",
       "      <td></td>\n",
       "      <td></td>\n",
       "      <td></td>\n",
       "      <td></td>\n",
       "      <td></td>\n",
       "      <td></td>\n",
       "      <td></td>\n",
       "      <td></td>\n",
       "      <td></td>\n",
       "      <td></td>\n",
       "    </tr>\n",
       "    <tr>\n",
       "      <th>1</th>\n",
       "      <td>94924403348</td>\n",
       "      <td>5301</td>\n",
       "      <td>1</td>\n",
       "      <td>4</td>\n",
       "      <td>6</td>\n",
       "      <td>1</td>\n",
       "      <td>3</td>\n",
       "      <td>4</td>\n",
       "      <td>1</td>\n",
       "      <td>1</td>\n",
       "      <td>...</td>\n",
       "      <td></td>\n",
       "      <td></td>\n",
       "      <td></td>\n",
       "      <td></td>\n",
       "      <td></td>\n",
       "      <td></td>\n",
       "      <td></td>\n",
       "      <td></td>\n",
       "      <td></td>\n",
       "      <td></td>\n",
       "    </tr>\n",
       "    <tr>\n",
       "      <th>2</th>\n",
       "      <td>63798413037</td>\n",
       "      <td>2248</td>\n",
       "      <td>1</td>\n",
       "      <td>4</td>\n",
       "      <td>6</td>\n",
       "      <td>1</td>\n",
       "      <td>3</td>\n",
       "      <td>4</td>\n",
       "      <td>1</td>\n",
       "      <td>1</td>\n",
       "      <td>...</td>\n",
       "      <td></td>\n",
       "      <td></td>\n",
       "      <td></td>\n",
       "      <td></td>\n",
       "      <td></td>\n",
       "      <td></td>\n",
       "      <td></td>\n",
       "      <td></td>\n",
       "      <td></td>\n",
       "      <td></td>\n",
       "    </tr>\n",
       "    <tr>\n",
       "      <th>3</th>\n",
       "      <td>75477993771</td>\n",
       "      <td>6157</td>\n",
       "      <td>1</td>\n",
       "      <td>4</td>\n",
       "      <td>6</td>\n",
       "      <td>1</td>\n",
       "      <td>3</td>\n",
       "      <td>3</td>\n",
       "      <td>1</td>\n",
       "      <td>1</td>\n",
       "      <td>...</td>\n",
       "      <td></td>\n",
       "      <td></td>\n",
       "      <td></td>\n",
       "      <td></td>\n",
       "      <td></td>\n",
       "      <td></td>\n",
       "      <td></td>\n",
       "      <td></td>\n",
       "      <td></td>\n",
       "      <td></td>\n",
       "    </tr>\n",
       "    <tr>\n",
       "      <th>4</th>\n",
       "      <td>34764150916</td>\n",
       "      <td>12528</td>\n",
       "      <td>1</td>\n",
       "      <td>4</td>\n",
       "      <td>6</td>\n",
       "      <td>1</td>\n",
       "      <td>3</td>\n",
       "      <td>4</td>\n",
       "      <td>1</td>\n",
       "      <td>1</td>\n",
       "      <td>...</td>\n",
       "      <td></td>\n",
       "      <td></td>\n",
       "      <td></td>\n",
       "      <td></td>\n",
       "      <td></td>\n",
       "      <td></td>\n",
       "      <td></td>\n",
       "      <td></td>\n",
       "      <td></td>\n",
       "      <td></td>\n",
       "    </tr>\n",
       "  </tbody>\n",
       "</table>\n",
       "<p>5 rows × 291 columns</p>\n",
       "</div>"
      ],
      "text/plain": [
       "      IDENTIFI W_PERS REGION POB_URB PRVNC AGL_URB BHCV01 BHCV02 BHCV03  \\\n",
       "0  61301445099   3787      1       4     6       1      3      4      1   \n",
       "1  94924403348   5301      1       4     6       1      3      4      1   \n",
       "2  63798413037   2248      1       4     6       1      3      4      1   \n",
       "3  75477993771   6157      1       4     6       1      3      3      1   \n",
       "4  34764150916  12528      1       4     6       1      3      4      1   \n",
       "\n",
       "  BHCV04  ...   BIDT02_05 BIDT02_06 BIDT02_07 BIDT02_08 BIDT02_09 BIDT02_10  \\\n",
       "0      1  ...                                                                 \n",
       "1      1  ...                                                                 \n",
       "2      1  ...                                                                 \n",
       "3      1  ...                                                                 \n",
       "4      1  ...                                                                 \n",
       "\n",
       "  BIDT02_11 BIDT02_12 BIDT02_13 BIDT03  \n",
       "0                                       \n",
       "1                                       \n",
       "2                                       \n",
       "3                                       \n",
       "4                                       \n",
       "\n",
       "[5 rows x 291 columns]"
      ]
     },
     "execution_count": 2,
     "metadata": {},
     "output_type": "execute_result"
    }
   ],
   "source": [
    "path = r'D:\\Matias\\Python\\DH\\bases_enprecosp2011'\n",
    "os.chdir(path)\n",
    "with open('Base Usuario ENPreCoSP-2011.txt', 'rb') as data0:\n",
    "    data0 = data0.read().decode()\n",
    "data_spl = data0.split()\n",
    "df0 = pd.DataFrame([i.split('|')[:-1] for i in data_spl[1:]], columns = [i for i in data_spl[0].split('|')])\n",
    "print(df0.shape)\n",
    "df0.info()\n",
    "df0.head()"
   ]
  },
  {
   "cell_type": "markdown",
   "metadata": {},
   "source": [
    "## Análisis Exploratorio de Datos ###"
   ]
  },
  {
   "cell_type": "raw",
   "metadata": {},
   "source": [
    "Hacemos un análisis preliminar de datos a través de gráficos para poder identificar algunas tendencias de los consumidores, teniendo en cuenta las variables socio-demográficas."
   ]
  },
  {
   "cell_type": "markdown",
   "metadata": {},
   "source": [
    "### Consumo de Alcohol ###"
   ]
  },
  {
   "cell_type": "raw",
   "metadata": {},
   "source": [
    "La edad de los primeros consumos es un factor de principal interés, así que graficamos algún ejemplo"
   ]
  },
  {
   "cell_type": "code",
   "execution_count": 3,
   "metadata": {
    "collapsed": false,
    "jupyter": {
     "outputs_hidden": false
    }
   },
   "outputs": [
    {
     "data": {
      "image/png": "[encoded data removed]",
      "text/plain": [
       "<matplotlib.figure.Figure at 0x23faf004ba8>"
      ]
     },
     "metadata": {},
     "output_type": "display_data"
    }
   ],
   "source": [
    "cantidad = [df0['BIBA03'].value_counts()[str(n)] for n in range(0, 100) if str(n) in df0['BIBA03'].value_counts().index]\n",
    "edades = sorted([int(n) for n in df0['BIBA03'].value_counts().index if n.isdigit()])\n",
    "plt.figure(figsize=(10,5))\n",
    "plt.title('Edad de primer consumo de alcohol')\n",
    "plt.bar(edades, cantidad)\n",
    "plt.xlim(0, 65)\n",
    "plt.xticks([10, 18, 20, 30, 50, 64])\n",
    "plt.show()"
   ]
  },
  {
   "cell_type": "markdown",
   "metadata": {},
   "source": [
    "Buscamos algunas correlaciones significativas, como el consumo de vino según el ingreso. "
   ]
  },
  {
   "cell_type": "code",
   "execution_count": 4,
   "metadata": {
    "collapsed": false,
    "jupyter": {
     "outputs_hidden": false
    }
   },
   "outputs": [
    {
     "name": "stdout",
     "output_type": "stream",
     "text": [
      "Rho de Spearaman: 0.9133126934984519, p-value: < 0.001\n"
     ]
    },
    {
     "data": {
      "image/png": "[encoded data removed]",
      "text/plain": [
       "<matplotlib.figure.Figure at 0x23fbb648320>"
      ]
     },
     "metadata": {},
     "output_type": "display_data"
    }
   ],
   "source": [
    "prevalPorRangoIngresos = [df0.groupby('RANGOING')['BIBA07_02'].value_counts()[i]['1']/df0.groupby('RANGOING')['BIBA07_02'].count()[i] for i in [str(n) for n in range(0, 18)]]\n",
    "sp, p = ss.spearmanr(prevalPorRangoIngresos, [0, 300, 700, 900, 1250, 1750, 2250, 2750, 3250, 3750, 4250, 5000, 5500, 6500, 7500, 9000, 12500, 15000])\n",
    "print('Rho de Spearaman: {0}, p-value: {1}'.format(sp, '< 0.001'))\n",
    "plt.figure(figsize=(13,5))\n",
    "plt.plot([i for i in range(0, 18)], prevalPorRangoIngresos)\n",
    "plt.xlabel('Ingresos')\n",
    "plt.ylabel('Vino último mes')\n",
    "plt.title('Vino')\n",
    "plt.xticks([i for i in range(0, 18)])\n",
    "plt.plot(range(18), [np.mean(prevalPorRangoIngresos)] * 18)\n",
    "plt.show()"
   ]
  },
  {
   "cell_type": "markdown",
   "metadata": {},
   "source": [
    "### Consumo por Género ###"
   ]
  },
  {
   "cell_type": "code",
   "execution_count": 5,
   "metadata": {
    "collapsed": false,
    "jupyter": {
     "outputs_hidden": false
    }
   },
   "outputs": [
    {
     "data": {
      "image/png": "[encoded data removed]",
      "text/plain": [
       "<matplotlib.figure.Figure at 0x23fbb63a6d8>"
      ]
     },
     "metadata": {},
     "output_type": "display_data"
    }
   ],
   "source": [
    "alcohol = df0[df0['BITA01']=='1']['BHCH04'].value_counts()\n",
    "faso = df0[df0['BIMA01']=='1']['BHCH04'].value_counts()\n",
    "alu = df0[df0['BIOD04_01']=='1']['BHCH04'].value_counts()\n",
    "coca = df0[df0['BICO01']=='1']['BHCH04'].value_counts()\n",
    "df = pd.DataFrame([faso, alu, coca])\n",
    "df.index = ['cannabis', 'alucinógenos', 'cocaina']\n",
    "df.plot(kind='bar',stacked=True, figsize=(10,5))\n",
    "plt.legend(['Hombre', 'Mujer'])\n",
    "plt.title('Consumo por genero')\n",
    "plt.show()"
   ]
  },
  {
   "cell_type": "markdown",
   "metadata": {},
   "source": [
    "### Distribución Geográfica de Consumo ###"
   ]
  },
  {
   "cell_type": "code",
   "execution_count": 6,
   "metadata": {
    "collapsed": false,
    "jupyter": {
     "outputs_hidden": false
    }
   },
   "outputs": [],
   "source": [
    "pcias = ' 02 Ciudad Autónoma de Buenos Aires\\n 06 Buenos Aires\\n 10 Catamarca\\n 14 Córdoba\\n 18 Corrientes\\n 22 Chaco\\n 26 Chubut\\n 30 Entre Ríos\\n 34 Formosa\\n 38 Jujuy\\n 42 La Pampa\\n 46 La Rioja\\n 50 Mendoza\\n 54 Misiones\\n 58 Neuquén\\n 62 Río Negro\\n 66 Salta\\n 70 San Juan\\n 74 San Luis\\n 78 Santa Cruz\\n 82 Santa Fe\\n 86 Santiago del Estero\\n 94 Tierra del Fuego, Antártida Argentina e Islas del Atlántico Sur\\n 90 Tucumán'\n",
    "dpcias = {p[0]:' '.join(p) for p in [i.strip().split(maxsplit = 1) for i in pcias.split('\\n')]}"
   ]
  },
  {
   "cell_type": "code",
   "execution_count": 7,
   "metadata": {
    "collapsed": false,
    "jupyter": {
     "outputs_hidden": false
    }
   },
   "outputs": [],
   "source": [
    "#grafica por provincia la prevalencia de vida de consumo\n",
    "def graph_pprev(col, droga):\n",
    "    si = df0[df0[col] == '1'].groupby('PRVNC')['IDENTIFI'].count().sort_values()\n",
    "    no = df0[df0[col] == '2'].groupby('PRVNC')['IDENTIFI'].count().sort_values()\n",
    "    total = df0[(df0[col] == '1') | (df0[col] == '2') | (df0[col] == '9')].groupby('PRVNC')['IDENTIFI'].count()\n",
    "    porcentaje = (si/total * 100).fillna(0).sort_values()\n",
    "    plt.figure(figsize=(10,5))\n",
    "    sns.barplot(x = porcentaje.index, y = porcentaje.values, order = porcentaje.index)\n",
    "    plt.title('% de {} por provincia'.format(droga))\n",
    "    plt.xlabel('Provincias')\n",
    "    plt.ylabel('Porcentaje')\n",
    "    plt.legend([dpcias[i] if len(i) == 2 else dpcias['0' + i] for i in porcentaje.index[::-1]], bbox_to_anchor=(1, 1.075))\n",
    "    plt.show()"
   ]
  },
  {
   "cell_type": "code",
   "execution_count": 8,
   "metadata": {
    "collapsed": false,
    "jupyter": {
     "outputs_hidden": false
    }
   },
   "outputs": [
    {
     "data": {
      "image/png": "[encoded data removed]",
      "text/plain": [
       "<matplotlib.figure.Figure at 0x23fbb8c8b38>"
      ]
     },
     "metadata": {},
     "output_type": "display_data"
    }
   ],
   "source": [
    "'''graph_pprev('BITA01', 'tabaco')\n",
    "graph_pprev('BIBA01', 'alcohol')\n",
    "graph_pprev('BITR01', 'tranquilizantes')\n",
    "graph_pprev('BIES01', 'estimulantes')\n",
    "graph_pprev('BICO01', 'cocaína')\n",
    "graph_pprev('BIPB01', 'pasta base')\n",
    "graph_pprev('BIEX01', 'éxtasis')\n",
    "graph_pprev('BIIN01', 'inhalables')\n",
    "graph_pprev('BIOD01_01', 'd para adelgazar')\n",
    "graph_pprev('BIOD02_01', 'opiáceos o anestésicos')\n",
    "graph_pprev('BIOD03_01', 'crack')\n",
    "graph_pprev('BIOD05_01', 'otras')'''\n",
    "graph_pprev('BIOD04_01', 'Alucinógenos Serotoninérgicos')"
   ]
  },
  {
   "cell_type": "markdown",
   "metadata": {},
   "source": [
    "## Limpieza"
   ]
  },
  {
   "cell_type": "raw",
   "metadata": {},
   "source": [
    "Para hacer los modelos predictivos, es necesario limpiar los datos. Reemplazamos los valores del tipo 'No sabe/No contesta', convertimos todo a tipo numérico, y llenamos los valores nulos con el 0, que es el correspondiente a las respuestas neutras o negativas. Reemplazamos los valores vacíos por la mediana de cada columna, que es más robusta que la media"
   ]
  },
  {
   "cell_type": "code",
   "execution_count": 9,
   "metadata": {
    "collapsed": false,
    "jupyter": {
     "outputs_hidden": false
    }
   },
   "outputs": [],
   "source": [
    "df0 = df0.replace(['9', '99', '999', '888'], np.nan) #estos son las respuesas de \"no sabe/no contesta\"\n",
    "df0 = df0.apply(lambda x: pd.to_numeric(x, downcast = 'float', errors = 'coerce'))\n",
    "df0 = df0.fillna(0)"
   ]
  },
  {
   "cell_type": "markdown",
   "metadata": {},
   "source": [
    "# Target"
   ]
  },
  {
   "cell_type": "raw",
   "metadata": {},
   "source": [
    "Vamos a construir una variable target correspondiente a consumo problemático, creando una columna binaria por clase de sustancia. Agrupamos criterios para las distintas sustancia y si cumple con alguno de ellos es un caso positivo."
   ]
  },
  {
   "cell_type": "code",
   "execution_count": 10,
   "metadata": {
    "collapsed": false,
    "jupyter": {
     "outputs_hidden": false
    }
   },
   "outputs": [],
   "source": [
    "def tabaco(row):\n",
    "    if (row['BITA05'] > 10 ) | (row['BITA06'] > 0 ):\n",
    "        return 1\n",
    "    else:\n",
    "        return 0\n",
    "def marihuana(row):\n",
    "    if ((row['BIMA04'] == 1) | (row['BIMA06'] == 1) | (row['BIMA11'] == 1) | (row['BIMA12'] == 1) |\n",
    "        (row['BIMA13'] == 1) | (row['BIMA16'] == 1)):\n",
    "        return 1\n",
    "    else:\n",
    "        return 0\n",
    "def alcohol(row):\n",
    "    if ((row['AB_TC'] == 1) | (row[['BIBA07_01', 'BIBA07_02', 'BIBA07_03']].sum() > 20) |\n",
    "    (row[['BIBA08_01', 'BIBA08_02', 'BIBA08_03', 'BIBA09_01', 'BIBA09_02', 'BIBA09_03']].sum() > 20) |\n",
    "    (row['BIBA12'] == 1) | (row['BIBA06'] >= 3) | (row['BIBA11'] > 9)): \n",
    "        return 1\n",
    "    else:\n",
    "        return 0\n",
    "def cocaina(row):\n",
    "    if ((row['BICO04'] == 1) | (row['BICO06'] == 1) | (row['BICO11'] == 1) | \n",
    "        (row['BICO12'] == 1) | (row['BICO13'] == 1) | (row['BICO14'] == 1) | (row['BICO16'] == 1)):\n",
    "        return 1\n",
    "    else:\n",
    "        return 0\n",
    "def pastabase(row):\n",
    "    if ((row['BIPB04'] == 1) | (row['BIPB06'] == 1) | (row['BIPB11'] == 1) | \n",
    "        (row['BIPB12'] == 1) | (row['BIPB13'] == 1) | (row['BIPB14'] == 1) | (row['BIPB16'] == 1)):\n",
    "        return 1\n",
    "    else:\n",
    "        return 0\n",
    "def otras(row):\n",
    "    if ((row['BIEX04'] == 1) | (row['BIEX06'] == 1) | (row['BIEX11'] == 1) | \n",
    "        (row['BIEX12'] == 1) | (row['BIEX13'] == 1) | (row['BIEX15'] == 1) | \n",
    "        (row['BIEX14'] == 1) | (row['BIEX16'] == 1) | (row['BIES08'] >= 3) | \n",
    "        (row['BITR08'] >= 10) | (row['BIIN01'] == 1)):\n",
    "        return 1\n",
    "    else:\n",
    "        return 0\n",
    "def tratamientos(row):\n",
    "    if ((row['BIDT01'] == 1) | (row['BIDT03'] in {1, 2})):\n",
    "        return 1\n",
    "    else:\n",
    "        return 0"
   ]
  },
  {
   "cell_type": "code",
   "execution_count": 11,
   "metadata": {
    "collapsed": false,
    "jupyter": {
     "outputs_hidden": false
    }
   },
   "outputs": [],
   "source": [
    "df0['Tabaco'] = df0.apply(tabaco, axis = 1)\n",
    "df0['Marihuana'] = df0.apply(marihuana, axis = 1)\n",
    "df0['Cocaina'] = df0.apply(cocaina, axis = 1)\n",
    "df0['Alcohol'] = df0.apply(alcohol, axis = 1)\n",
    "df0['Otras'] = df0.apply(otras, axis = 1)\n",
    "df0['Tratamiento'] = df0.apply(tratamientos, axis = 1)"
   ]
  },
  {
   "cell_type": "code",
   "execution_count": 12,
   "metadata": {
    "collapsed": false,
    "jupyter": {
     "outputs_hidden": false
    }
   },
   "outputs": [],
   "source": [
    "df_target = df0['Tabaco, Marihuana, Cocaina, Alcohol, Otras'.split(', ')]\n",
    "#df_target['Total'] = df_target.sum(axis = 1)\n",
    "#df_target['Binario'] = [1 if t > 0 else 0 for t in df_target['Total']]"
   ]
  },
  {
   "cell_type": "code",
   "execution_count": 13,
   "metadata": {
    "collapsed": false,
    "jupyter": {
     "outputs_hidden": false
    }
   },
   "outputs": [
    {
     "data": {
      "text/html": [
       "<div>\n",
       "<style>\n",
       "    .dataframe thead tr:only-child th {\n",
       "        text-align: right;\n",
       "    }\n",
       "\n",
       "    .dataframe thead th {\n",
       "        text-align: left;\n",
       "    }\n",
       "\n",
       "    .dataframe tbody tr th {\n",
       "        vertical-align: top;\n",
       "    }\n",
       "</style>\n",
       "<table border=\"1\" class=\"dataframe\">\n",
       "  <thead>\n",
       "    <tr style=\"text-align: right;\">\n",
       "      <th></th>\n",
       "      <th>Tabaco</th>\n",
       "      <th>Marihuana</th>\n",
       "      <th>Cocaina</th>\n",
       "      <th>Alcohol</th>\n",
       "      <th>Otras</th>\n",
       "    </tr>\n",
       "  </thead>\n",
       "  <tbody>\n",
       "    <tr>\n",
       "      <th>0</th>\n",
       "      <td>0</td>\n",
       "      <td>0</td>\n",
       "      <td>0</td>\n",
       "      <td>0</td>\n",
       "      <td>0</td>\n",
       "    </tr>\n",
       "    <tr>\n",
       "      <th>1</th>\n",
       "      <td>1</td>\n",
       "      <td>0</td>\n",
       "      <td>0</td>\n",
       "      <td>0</td>\n",
       "      <td>0</td>\n",
       "    </tr>\n",
       "    <tr>\n",
       "      <th>2</th>\n",
       "      <td>1</td>\n",
       "      <td>0</td>\n",
       "      <td>0</td>\n",
       "      <td>0</td>\n",
       "      <td>0</td>\n",
       "    </tr>\n",
       "    <tr>\n",
       "      <th>3</th>\n",
       "      <td>1</td>\n",
       "      <td>0</td>\n",
       "      <td>0</td>\n",
       "      <td>1</td>\n",
       "      <td>0</td>\n",
       "    </tr>\n",
       "    <tr>\n",
       "      <th>4</th>\n",
       "      <td>1</td>\n",
       "      <td>0</td>\n",
       "      <td>0</td>\n",
       "      <td>1</td>\n",
       "      <td>0</td>\n",
       "    </tr>\n",
       "  </tbody>\n",
       "</table>\n",
       "</div>"
      ],
      "text/plain": [
       "   Tabaco  Marihuana  Cocaina  Alcohol  Otras\n",
       "0       0          0        0        0      0\n",
       "1       1          0        0        0      0\n",
       "2       1          0        0        0      0\n",
       "3       1          0        0        1      0\n",
       "4       1          0        0        1      0"
      ]
     },
     "execution_count": 13,
     "metadata": {},
     "output_type": "execute_result"
    }
   ],
   "source": [
    "df_target.head()"
   ]
  },
  {
   "cell_type": "code",
   "execution_count": 1,
   "metadata": {
    "collapsed": false,
    "jupyter": {
     "outputs_hidden": false
    }
   },
   "outputs": [
    {
     "ename": "NameError",
     "evalue": "name 'df_target' is not defined",
     "output_type": "error",
     "traceback": [
      "\u001b[0;31m---------------------------------------------------------------------------\u001b[0m",
      "\u001b[0;31mNameError\u001b[0m                                 Traceback (most recent call last)",
      "\u001b[0;32m<ipython-input-1-75b744ef7457>\u001b[0m in \u001b[0;36m<module>\u001b[0;34m()\u001b[0m\n\u001b[0;32m----> 1\u001b[0;31m \u001b[1;32mfor\u001b[0m \u001b[0mc\u001b[0m \u001b[1;32min\u001b[0m \u001b[0mdf_target\u001b[0m\u001b[1;33m.\u001b[0m\u001b[0mcolumns\u001b[0m\u001b[1;33m:\u001b[0m\u001b[1;33m\u001b[0m\u001b[0m\n\u001b[0m\u001b[1;32m      2\u001b[0m     \u001b[0mprint\u001b[0m\u001b[1;33m(\u001b[0m\u001b[1;34m'Casos de consumo problemático de'\u001b[0m\u001b[1;33m,\u001b[0m \u001b[0mdf_target\u001b[0m\u001b[1;33m[\u001b[0m\u001b[0mc\u001b[0m\u001b[1;33m]\u001b[0m\u001b[1;33m.\u001b[0m\u001b[0mvalue_counts\u001b[0m\u001b[1;33m(\u001b[0m\u001b[1;33m)\u001b[0m\u001b[1;33m.\u001b[0m\u001b[0mname\u001b[0m\u001b[1;33m,\u001b[0m \u001b[1;34m':'\u001b[0m\u001b[1;33m,\u001b[0m \u001b[0mdf_target\u001b[0m\u001b[1;33m[\u001b[0m\u001b[0mc\u001b[0m\u001b[1;33m]\u001b[0m\u001b[1;33m.\u001b[0m\u001b[0mvalue_counts\u001b[0m\u001b[1;33m(\u001b[0m\u001b[1;33m)\u001b[0m\u001b[1;33m.\u001b[0m\u001b[0mvalues\u001b[0m\u001b[1;33m)\u001b[0m\u001b[1;33m\u001b[0m\u001b[0m\n",
      "\u001b[0;31mNameError\u001b[0m: name 'df_target' is not defined"
     ]
    }
   ],
   "source": [
    "for c in df_target.columns:\n",
    "    print('Casos de consumo problemático de', df_target[c].value_counts().name, ':', df_target[c].value_counts().values)"
   ]
  },
  {
   "cell_type": "markdown",
   "metadata": {},
   "source": [
    "### Prevalencia vs. Consumo Problemático"
   ]
  },
  {
   "cell_type": "markdown",
   "metadata": {},
   "source": [
    "##### Consumo Problemático por Sustancia"
   ]
  },
  {
   "cell_type": "code",
   "execution_count": 15,
   "metadata": {
    "collapsed": false,
    "jupyter": {
     "outputs_hidden": false
    }
   },
   "outputs": [
    {
     "data": {
      "text/html": [
       "<div>\n",
       "<style>\n",
       "    .dataframe thead tr:only-child th {\n",
       "        text-align: right;\n",
       "    }\n",
       "\n",
       "    .dataframe thead th {\n",
       "        text-align: left;\n",
       "    }\n",
       "\n",
       "    .dataframe tbody tr th {\n",
       "        vertical-align: top;\n",
       "    }\n",
       "</style>\n",
       "<table border=\"1\" class=\"dataframe\">\n",
       "  <thead>\n",
       "    <tr style=\"text-align: right;\">\n",
       "      <th></th>\n",
       "      <th>Sustancia</th>\n",
       "      <th>Prevalencia de Vida</th>\n",
       "      <th>Consumo Problematico</th>\n",
       "      <th>% de Consumo Problematico</th>\n",
       "    </tr>\n",
       "  </thead>\n",
       "  <tbody>\n",
       "    <tr>\n",
       "      <th>0</th>\n",
       "      <td>Tabaco</td>\n",
       "      <td>16696</td>\n",
       "      <td>9609</td>\n",
       "      <td>57,55%</td>\n",
       "    </tr>\n",
       "    <tr>\n",
       "      <th>1</th>\n",
       "      <td>Alcohol</td>\n",
       "      <td>8621</td>\n",
       "      <td>4814</td>\n",
       "      <td>55,84%</td>\n",
       "    </tr>\n",
       "    <tr>\n",
       "      <th>2</th>\n",
       "      <td>Marihuana</td>\n",
       "      <td>2516</td>\n",
       "      <td>377</td>\n",
       "      <td>14,98%</td>\n",
       "    </tr>\n",
       "    <tr>\n",
       "      <th>3</th>\n",
       "      <td>Cocaina</td>\n",
       "      <td>691</td>\n",
       "      <td>146</td>\n",
       "      <td>21,13%</td>\n",
       "    </tr>\n",
       "    <tr>\n",
       "      <th>4</th>\n",
       "      <td>Extasis</td>\n",
       "      <td>168</td>\n",
       "      <td>10</td>\n",
       "      <td>5,95%</td>\n",
       "    </tr>\n",
       "    <tr>\n",
       "      <th>5</th>\n",
       "      <td>Otras Drogas</td>\n",
       "      <td>1309</td>\n",
       "      <td>238</td>\n",
       "      <td>18,43%</td>\n",
       "    </tr>\n",
       "  </tbody>\n",
       "</table>\n",
       "</div>"
      ],
      "text/plain": [
       "      Sustancia  Prevalencia de Vida  Consumo Problematico  \\\n",
       "0        Tabaco                16696                  9609   \n",
       "1       Alcohol                 8621                  4814   \n",
       "2     Marihuana                 2516                   377   \n",
       "3       Cocaina                  691                   146   \n",
       "4       Extasis                  168                    10   \n",
       "5  Otras Drogas                 1309                   238   \n",
       "\n",
       "  % de Consumo Problematico  \n",
       "0                    57,55%  \n",
       "1                    55,84%  \n",
       "2                    14,98%  \n",
       "3                    21,13%  \n",
       "4                     5,95%  \n",
       "5                    18,43%  "
      ]
     },
     "execution_count": 15,
     "metadata": {},
     "output_type": "execute_result"
    }
   ],
   "source": [
    "pv_estimulantes = (df0['PV_ES']== 1).sum(axis=0)\n",
    "pv_tranquilizantes = (df0['PV_TR'] == 1).sum(axis=0)\n",
    "pv_poxi = (df0['PV_IN'] == 1).sum(axis=0)\n",
    "estimulantes = (df0['BIES08']>= 3).sum(axis=0)\n",
    "tranquilizantes = (df0['BITR08'] >= 10).sum(axis=0)\n",
    "poxi = (df0['BIIN01'] == 1).sum(axis=0)\n",
    "prevalencia = {'Sustancia': ['Tabaco', 'Alcohol', 'Marihuana', 'Cocaina', 'Extasis', 'Otras Drogas'],\n",
    "        'Prevalencia de Vida': [16696, 8621, 2516, 691, 168, 1309],\n",
    "        'Consumo Problematico': [9609, 4814, 377, 146, 10, 238],\n",
    "        '% de Consumo Problematico': ['57,55%', '55,84%', '14,98%', '21,13%', '5,95%', '18,43%']}\n",
    "df_prev = pd.DataFrame(prevalencia, columns = ['Sustancia', 'Prevalencia de Vida', 'Consumo Problematico', '% de Consumo Problematico'])\n",
    "df_prev"
   ]
  },
  {
   "cell_type": "code",
   "execution_count": 16,
   "metadata": {
    "collapsed": false,
    "jupyter": {
     "outputs_hidden": false
    }
   },
   "outputs": [
    {
     "data": {
      "image/png": "[encoded data removed]",
      "text/plain": [
       "<matplotlib.figure.Figure at 0x23fbb65ba90>"
      ]
     },
     "metadata": {},
     "output_type": "display_data"
    }
   ],
   "source": [
    "df_prev.index = ['Tabaco', 'Alcohol', 'Marihuana', 'Cocaina', 'Extasis', 'Otras Drogas']\n",
    "df_prev.plot(kind='bar',stacked=True, figsize=(15,8))\n",
    "plt.legend(['Consumo Normal', 'Consumo Problematico'])\n",
    "plt.title('Proporcion de Consumo Problematico por Sustancia')\n",
    "plt.show()"
   ]
  },
  {
   "cell_type": "markdown",
   "metadata": {},
   "source": [
    "##### Consumo Problemático Total"
   ]
  },
  {
   "cell_type": "code",
   "execution_count": 17,
   "metadata": {
    "collapsed": false,
    "jupyter": {
     "outputs_hidden": false
    }
   },
   "outputs": [
    {
     "data": {
      "text/html": [
       "<div>\n",
       "<style>\n",
       "    .dataframe thead tr:only-child th {\n",
       "        text-align: right;\n",
       "    }\n",
       "\n",
       "    .dataframe thead th {\n",
       "        text-align: left;\n",
       "    }\n",
       "\n",
       "    .dataframe tbody tr th {\n",
       "        vertical-align: top;\n",
       "    }\n",
       "</style>\n",
       "<table border=\"1\" class=\"dataframe\">\n",
       "  <thead>\n",
       "    <tr style=\"text-align: right;\">\n",
       "      <th></th>\n",
       "      <th>Consumo Problematico</th>\n",
       "      <th># de Consumidores</th>\n",
       "    </tr>\n",
       "  </thead>\n",
       "  <tbody>\n",
       "    <tr>\n",
       "      <th>0</th>\n",
       "      <td>No hay Consumo Problematico</td>\n",
       "      <td>21906</td>\n",
       "    </tr>\n",
       "    <tr>\n",
       "      <th>1</th>\n",
       "      <td>1 droga</td>\n",
       "      <td>9637</td>\n",
       "    </tr>\n",
       "    <tr>\n",
       "      <th>2</th>\n",
       "      <td>2 drogas</td>\n",
       "      <td>2434</td>\n",
       "    </tr>\n",
       "    <tr>\n",
       "      <th>3</th>\n",
       "      <td>3 drogas o mas</td>\n",
       "      <td>366</td>\n",
       "    </tr>\n",
       "  </tbody>\n",
       "</table>\n",
       "</div>"
      ],
      "text/plain": [
       "          Consumo Problematico  # de Consumidores\n",
       "0  No hay Consumo Problematico              21906\n",
       "1                      1 droga               9637\n",
       "2                     2 drogas               2434\n",
       "3               3 drogas o mas                366"
      ]
     },
     "execution_count": 17,
     "metadata": {},
     "output_type": "execute_result"
    }
   ],
   "source": [
    "cons_prob = {'Consumo Problematico': ['No hay Consumo Problematico', '1 droga', '2 drogas', '3 drogas o mas'], \n",
    "        '# de Consumidores': [21906, 9637, 2434, 366]}\n",
    "df_cons_prob = pd.DataFrame(cons_prob, columns = ['Consumo Problematico', '# de Consumidores'])\n",
    "df_cons_prob.head()"
   ]
  },
  {
   "cell_type": "code",
   "execution_count": 18,
   "metadata": {
    "collapsed": false,
    "jupyter": {
     "outputs_hidden": false
    },
    "scrolled": true
   },
   "outputs": [
    {
     "data": {
      "image/png": "[encoded data removed]",
      "text/plain": [
       "<matplotlib.figure.Figure at 0x23fbb64b160>"
      ]
     },
     "metadata": {},
     "output_type": "display_data"
    }
   ],
   "source": [
    "fig = plt.gcf()\n",
    "fig.set_size_inches(10,10)\n",
    "\n",
    "plt.pie(df_cons_prob['# de Consumidores'],\n",
    "    labels=df_cons_prob['Consumo Problematico'],\n",
    "       startangle=110, autopct=\"%1.1f%%\")\n",
    "\n",
    "plt.show()"
   ]
  },
  {
   "cell_type": "markdown",
   "metadata": {},
   "source": [
    "# Prediccion"
   ]
  },
  {
   "cell_type": "raw",
   "metadata": {},
   "source": [
    "Para realizar nuestro modelo usamos el clasificador Random Forest, que genera un ensamble de árboles de decisión. La ventaja de este modelo es que es de muy buen rendimiento, relativamente interpretable, y no es demasiado costoso computacionalmente, permitiendonos hacer una buena calibración de hiperparámetros. \n",
    "\n",
    "Para la predicción, excluimos todas las columnas usadas para construir el target o directamente relacionadas con consumo. Hicimos un GridSearchCV para obtener los mejores parámetros del modelo, y ajustamos el mismo a los datos. Con ese modelo inicial, identificamos las variables de mayor relevancia para la predicción, haciendo una selección de features para reducir la dimensionalidad. Mantuvimos un buen puntaje de predicción, principalmente cuantificado por el puntaje de área debajo de la curva ROC y el puntaje F1, aún habiendo sacado un 95% de las columnas.\n",
    "\n",
    "De este modo, logramos el objetivo de desarrollar un cuestionario elemental para la predicción de consumidores problematicos, con buen valor predictivo."
   ]
  },
  {
   "cell_type": "code",
   "execution_count": 19,
   "metadata": {
    "collapsed": false,
    "jupyter": {
     "outputs_hidden": false
    }
   },
   "outputs": [
    {
     "name": "stderr",
     "output_type": "stream",
     "text": [
      "C:\\Program Files\\Anaconda3\\lib\\site-packages\\sklearn\\cross_validation.py:44: DeprecationWarning: This module was deprecated in version 0.18 in favor of the model_selection module into which all the refactored classes and functions are moved. Also note that the interface of the new CV iterators are different from that of this module. This module will be removed in 0.20.\n",
      "  \"This module will be removed in 0.20.\", DeprecationWarning)\n"
     ]
    }
   ],
   "source": [
    "#Importamos las funciones que usaremos\n",
    "from sklearn.cross_validation import cross_val_score\n",
    "from sklearn.metrics import roc_auc_score, classification_report\n",
    "from sklearn.ensemble import RandomForestClassifier\n",
    "from sklearn.model_selection import GridSearchCV, train_test_split, StratifiedKFold"
   ]
  },
  {
   "cell_type": "code",
   "execution_count": 20,
   "metadata": {
    "collapsed": false,
    "jupyter": {
     "outputs_hidden": false
    }
   },
   "outputs": [],
   "source": [
    "#Devuelve las n features más importantes, con nombre y ordenadas\n",
    "def get_most_important(model, n):\n",
    "    return sorted(zip(df_sin.columns, [str(round(i, 4)) for i in model.feature_importances_]), key = lambda x: x[1], reverse = True)[:n]"
   ]
  },
  {
   "cell_type": "code",
   "execution_count": 21,
   "metadata": {
    "collapsed": false,
    "jupyter": {
     "outputs_hidden": false
    }
   },
   "outputs": [
    {
     "data": {
      "text/html": [
       "<div>\n",
       "<style>\n",
       "    .dataframe thead tr:only-child th {\n",
       "        text-align: right;\n",
       "    }\n",
       "\n",
       "    .dataframe thead th {\n",
       "        text-align: left;\n",
       "    }\n",
       "\n",
       "    .dataframe tbody tr th {\n",
       "        vertical-align: top;\n",
       "    }\n",
       "</style>\n",
       "<table border=\"1\" class=\"dataframe\">\n",
       "  <thead>\n",
       "    <tr style=\"text-align: right;\">\n",
       "      <th></th>\n",
       "      <th>REGION_1.0</th>\n",
       "      <th>REGION_2.0</th>\n",
       "      <th>REGION_3.0</th>\n",
       "      <th>REGION_4.0</th>\n",
       "      <th>REGION_5.0</th>\n",
       "      <th>REGION_6.0</th>\n",
       "      <th>POB_URB_1.0</th>\n",
       "      <th>POB_URB_2.0</th>\n",
       "      <th>POB_URB_3.0</th>\n",
       "      <th>POB_URB_4.0</th>\n",
       "      <th>...</th>\n",
       "      <th>BIBA03_63.0</th>\n",
       "      <th>BIBA03_64.0</th>\n",
       "      <th>BIBA14_01_0.0</th>\n",
       "      <th>BIBA14_01_1.0</th>\n",
       "      <th>BIBA14_01_2.0</th>\n",
       "      <th>BIBA14_01_3.0</th>\n",
       "      <th>BIBA14_02_0.0</th>\n",
       "      <th>BIBA14_02_1.0</th>\n",
       "      <th>BIBA14_02_2.0</th>\n",
       "      <th>BIBA14_02_3.0</th>\n",
       "    </tr>\n",
       "  </thead>\n",
       "  <tbody>\n",
       "    <tr>\n",
       "      <th>0</th>\n",
       "      <td>1</td>\n",
       "      <td>0</td>\n",
       "      <td>0</td>\n",
       "      <td>0</td>\n",
       "      <td>0</td>\n",
       "      <td>0</td>\n",
       "      <td>0</td>\n",
       "      <td>0</td>\n",
       "      <td>0</td>\n",
       "      <td>1</td>\n",
       "      <td>...</td>\n",
       "      <td>0</td>\n",
       "      <td>0</td>\n",
       "      <td>0</td>\n",
       "      <td>0</td>\n",
       "      <td>0</td>\n",
       "      <td>1</td>\n",
       "      <td>0</td>\n",
       "      <td>0</td>\n",
       "      <td>0</td>\n",
       "      <td>1</td>\n",
       "    </tr>\n",
       "    <tr>\n",
       "      <th>1</th>\n",
       "      <td>1</td>\n",
       "      <td>0</td>\n",
       "      <td>0</td>\n",
       "      <td>0</td>\n",
       "      <td>0</td>\n",
       "      <td>0</td>\n",
       "      <td>0</td>\n",
       "      <td>0</td>\n",
       "      <td>0</td>\n",
       "      <td>1</td>\n",
       "      <td>...</td>\n",
       "      <td>0</td>\n",
       "      <td>0</td>\n",
       "      <td>0</td>\n",
       "      <td>1</td>\n",
       "      <td>0</td>\n",
       "      <td>0</td>\n",
       "      <td>0</td>\n",
       "      <td>0</td>\n",
       "      <td>0</td>\n",
       "      <td>1</td>\n",
       "    </tr>\n",
       "    <tr>\n",
       "      <th>2</th>\n",
       "      <td>1</td>\n",
       "      <td>0</td>\n",
       "      <td>0</td>\n",
       "      <td>0</td>\n",
       "      <td>0</td>\n",
       "      <td>0</td>\n",
       "      <td>0</td>\n",
       "      <td>0</td>\n",
       "      <td>0</td>\n",
       "      <td>1</td>\n",
       "      <td>...</td>\n",
       "      <td>0</td>\n",
       "      <td>0</td>\n",
       "      <td>0</td>\n",
       "      <td>0</td>\n",
       "      <td>1</td>\n",
       "      <td>0</td>\n",
       "      <td>0</td>\n",
       "      <td>0</td>\n",
       "      <td>0</td>\n",
       "      <td>1</td>\n",
       "    </tr>\n",
       "    <tr>\n",
       "      <th>3</th>\n",
       "      <td>1</td>\n",
       "      <td>0</td>\n",
       "      <td>0</td>\n",
       "      <td>0</td>\n",
       "      <td>0</td>\n",
       "      <td>0</td>\n",
       "      <td>0</td>\n",
       "      <td>0</td>\n",
       "      <td>0</td>\n",
       "      <td>1</td>\n",
       "      <td>...</td>\n",
       "      <td>0</td>\n",
       "      <td>0</td>\n",
       "      <td>0</td>\n",
       "      <td>1</td>\n",
       "      <td>0</td>\n",
       "      <td>0</td>\n",
       "      <td>0</td>\n",
       "      <td>0</td>\n",
       "      <td>0</td>\n",
       "      <td>1</td>\n",
       "    </tr>\n",
       "    <tr>\n",
       "      <th>4</th>\n",
       "      <td>1</td>\n",
       "      <td>0</td>\n",
       "      <td>0</td>\n",
       "      <td>0</td>\n",
       "      <td>0</td>\n",
       "      <td>0</td>\n",
       "      <td>0</td>\n",
       "      <td>0</td>\n",
       "      <td>0</td>\n",
       "      <td>1</td>\n",
       "      <td>...</td>\n",
       "      <td>0</td>\n",
       "      <td>0</td>\n",
       "      <td>0</td>\n",
       "      <td>1</td>\n",
       "      <td>0</td>\n",
       "      <td>0</td>\n",
       "      <td>0</td>\n",
       "      <td>0</td>\n",
       "      <td>0</td>\n",
       "      <td>1</td>\n",
       "    </tr>\n",
       "  </tbody>\n",
       "</table>\n",
       "<p>5 rows × 632 columns</p>\n",
       "</div>"
      ],
      "text/plain": [
       "   REGION_1.0  REGION_2.0  REGION_3.0  REGION_4.0  REGION_5.0  REGION_6.0  \\\n",
       "0           1           0           0           0           0           0   \n",
       "1           1           0           0           0           0           0   \n",
       "2           1           0           0           0           0           0   \n",
       "3           1           0           0           0           0           0   \n",
       "4           1           0           0           0           0           0   \n",
       "\n",
       "   POB_URB_1.0  POB_URB_2.0  POB_URB_3.0  POB_URB_4.0      ...        \\\n",
       "0            0            0            0            1      ...         \n",
       "1            0            0            0            1      ...         \n",
       "2            0            0            0            1      ...         \n",
       "3            0            0            0            1      ...         \n",
       "4            0            0            0            1      ...         \n",
       "\n",
       "   BIBA03_63.0  BIBA03_64.0  BIBA14_01_0.0  BIBA14_01_1.0  BIBA14_01_2.0  \\\n",
       "0            0            0              0              0              0   \n",
       "1            0            0              0              1              0   \n",
       "2            0            0              0              0              1   \n",
       "3            0            0              0              1              0   \n",
       "4            0            0              0              1              0   \n",
       "\n",
       "   BIBA14_01_3.0  BIBA14_02_0.0  BIBA14_02_1.0  BIBA14_02_2.0  BIBA14_02_3.0  \n",
       "0              1              0              0              0              1  \n",
       "1              0              0              0              0              1  \n",
       "2              0              0              0              0              1  \n",
       "3              0              0              0              0              1  \n",
       "4              0              0              0              0              1  \n",
       "\n",
       "[5 rows x 632 columns]"
      ]
     },
     "execution_count": 21,
     "metadata": {},
     "output_type": "execute_result"
    }
   ],
   "source": [
    "#hacemos un primer DataFrame con todas las columnas que no son de consumo, y algunas particulares de relevancia\n",
    "df_sin = pd.get_dummies(df0[[c for c in df0.columns][2:66] + ['BITA03', 'BITA09_01', 'BITA09_02', 'BIBA03', 'BIBA14_01', 'BIBA14_02']], columns =[c for c in df0.columns][2:66] + ['BITA03', 'BITA09_01', 'BITA09_02', 'BIBA03', 'BIBA14_01', 'BIBA14_02'])\n",
    "df_sin.head()"
   ]
  },
  {
   "cell_type": "code",
   "execution_count": 22,
   "metadata": {
    "collapsed": false,
    "jupyter": {
     "outputs_hidden": false
    }
   },
   "outputs": [],
   "source": [
    "#funcion para generar un modelo para cada droga\n",
    "def make_model(drug, params, X, y):\n",
    "    X_train, X_test, y_train, y_test = train_test_split(X, y, test_size=0.3, stratify = df_target)\n",
    "    model = RandomForestClassifier(**params)\n",
    "    model.fit(X_train, y_train[drug])\n",
    "    print('Cross val score: ', cross_val_score(model, X_test, y_test[drug]).mean())\n",
    "    print('Roc score:', roc_auc_score(y_test[drug], model.predict_proba(X_test)[:,1]))\n",
    "    print(classification_report(y_test[drug], model.predict(X_test)))\n",
    "    return model"
   ]
  },
  {
   "cell_type": "code",
   "execution_count": 23,
   "metadata": {
    "collapsed": false,
    "jupyter": {
     "outputs_hidden": false
    }
   },
   "outputs": [],
   "source": [
    "#Un wrapper sobre gridsearchCV. Uso recall de scoring para aumentar los positivos detectados\n",
    "def get_best(model, params, drug, X, y):\n",
    "    X_train, X_test, y_train, y_test = train_test_split(X, y, test_size=0.3, stratify = df_target)\n",
    "    kf = StratifiedKFold(n_splits=5,shuffle=True,random_state=11)\n",
    "    grid_search = GridSearchCV(model, param_grid=params, \n",
    "                              cv = kf, n_jobs = 4, verbose = 1, scoring = 'recall')\n",
    "\n",
    "    grid_search.fit(X_train, y_train[drug])\n",
    "    print('Best score: {}'.format(grid_search.best_score_))\n",
    "    print('Best parameters: {}'.format(grid_search.best_params_))\n",
    "    print('Roc: {}'.format(roc_auc_score(y_test[drug], grid_search.predict_proba(X_test)[:,1])))\n",
    "\n",
    "    return grid_search.best_estimator_"
   ]
  },
  {
   "cell_type": "code",
   "execution_count": 24,
   "metadata": {
    "collapsed": true,
    "jupyter": {
     "outputs_hidden": true
    }
   },
   "outputs": [],
   "source": [
    "#parametros para el GridSearch de Random Forest\n",
    "params_random = {'n_estimators': [2, 5, 10, 25, 50],\n",
    "                  'criterion': ['gini', 'entropy'],\n",
    "                  'max_features': [1, 2, 3, 4, 5, 6],\n",
    "                  'warm_start': [True, False]}"
   ]
  },
  {
   "cell_type": "code",
   "execution_count": 25,
   "metadata": {
    "collapsed": false,
    "jupyter": {
     "outputs_hidden": false
    }
   },
   "outputs": [
    {
     "name": "stdout",
     "output_type": "stream",
     "text": [
      "Fitting 5 folds for each of 120 candidates, totalling 600 fits\n"
     ]
    },
    {
     "name": "stderr",
     "output_type": "stream",
     "text": [
      "[Parallel(n_jobs=4)]: Done  42 tasks      | elapsed:   10.0s\n",
      "[Parallel(n_jobs=4)]: Done 192 tasks      | elapsed:   48.4s\n",
      "[Parallel(n_jobs=4)]: Done 442 tasks      | elapsed:  2.0min\n",
      "[Parallel(n_jobs=4)]: Done 600 out of 600 | elapsed:  2.8min finished\n"
     ]
    },
    {
     "name": "stdout",
     "output_type": "stream",
     "text": [
      "Best score: 0.5326037672389176\n",
      "Best parameters: {'warm_start': True, 'n_estimators': 5, 'criterion': 'gini', 'max_features': 6}\n",
      "Roc: 0.8515297747357244\n"
     ]
    },
    {
     "data": {
      "text/plain": [
       "RandomForestClassifier(bootstrap=True, class_weight=None, criterion='gini',\n",
       "            max_depth=None, max_features=6, max_leaf_nodes=None,\n",
       "            min_impurity_split=1e-07, min_samples_leaf=1,\n",
       "            min_samples_split=2, min_weight_fraction_leaf=0.0,\n",
       "            n_estimators=5, n_jobs=1, oob_score=False, random_state=None,\n",
       "            verbose=0, warm_start=True)"
      ]
     },
     "execution_count": 25,
     "metadata": {},
     "output_type": "execute_result"
    }
   ],
   "source": [
    "get_best(RandomForestClassifier(), params_random, 'Tabaco', df_sin, df_target)"
   ]
  },
  {
   "cell_type": "code",
   "execution_count": 38,
   "metadata": {
    "collapsed": false,
    "jupyter": {
     "outputs_hidden": false
    }
   },
   "outputs": [
    {
     "name": "stdout",
     "output_type": "stream",
     "text": [
      "Cross val score:  0.989420688234\n",
      "Roc score: 0.970198664288\n",
      "             precision    recall  f1-score   support\n",
      "\n",
      "          0       0.99      1.00      1.00     10187\n",
      "          1       1.00      0.46      0.63       116\n",
      "\n",
      "avg / total       0.99      0.99      0.99     10303\n",
      "\n"
     ]
    }
   ],
   "source": [
    "#Hacemos un primer modelo para la predicción con los mejores parámetros\n",
    "best_recall_params = {'max_features': 1, 'n_estimators': 50, 'criterion': 'gini', 'warm_start': True}\n",
    "cannabis_model = make_model('Marihuana', best_recall_params, df_sin, df_target)"
   ]
  },
  {
   "cell_type": "code",
   "execution_count": 40,
   "metadata": {
    "collapsed": false,
    "jupyter": {
     "outputs_hidden": false
    }
   },
   "outputs": [
    {
     "name": "stdout",
     "output_type": "stream",
     "text": [
      "Cross val score:  0.991070571224\n",
      "Roc score: 0.965140044603\n",
      "             precision    recall  f1-score   support\n",
      "\n",
      "          0       0.99      1.00      1.00     10194\n",
      "          1       0.90      0.43      0.58       109\n",
      "\n",
      "avg / total       0.99      0.99      0.99     10303\n",
      "\n"
     ]
    }
   ],
   "source": [
    "#Vuelvo a entrenar el modelo con las 30 variables que fueron más importantes\n",
    "df_sinm = df_sin[[i[0] for i in get_most_important(cannabis_model, 30)]]\n",
    "best_recall_params = {'max_features': 1, 'n_estimators': 50, 'criterion': 'gini', 'warm_start': True}\n",
    "cannabis_model2 = make_model('Marihuana', best_recall_params, df_sinm, df_target)"
   ]
  },
  {
   "cell_type": "code",
   "execution_count": 41,
   "metadata": {
    "collapsed": false,
    "jupyter": {
     "outputs_hidden": false
    }
   },
   "outputs": [
    {
     "name": "stdout",
     "output_type": "stream",
     "text": [
      "Cross val score:  0.881199902677\n",
      "Roc score: 0.890637745777\n",
      "             precision    recall  f1-score   support\n",
      "\n",
      "          0       0.92      1.00      0.96      8898\n",
      "          1       0.98      0.45      0.61      1405\n",
      "\n",
      "avg / total       0.93      0.92      0.91     10303\n",
      "\n"
     ]
    }
   ],
   "source": [
    "best_recall_params = {'max_features': 4, 'n_estimators': 25, 'criterion': 'entropy', 'warm_start': False}\n",
    "alcohol_model = make_model('Alcohol', best_recall_params, df_sin, df_target)"
   ]
  },
  {
   "cell_type": "code",
   "execution_count": 2,
   "metadata": {
    "collapsed": false,
    "jupyter": {
     "outputs_hidden": false
    }
   },
   "outputs": [
    {
     "ename": "NameError",
     "evalue": "name 'df_sin' is not defined",
     "output_type": "error",
     "traceback": [
      "\u001b[0;31m---------------------------------------------------------------------------\u001b[0m",
      "\u001b[0;31mNameError\u001b[0m                                 Traceback (most recent call last)",
      "\u001b[0;32m<ipython-input-2-b0a3ca40ac04>\u001b[0m in \u001b[0;36m<module>\u001b[0;34m()\u001b[0m\n\u001b[0;32m----> 1\u001b[0;31m \u001b[0mdf_sina\u001b[0m \u001b[1;33m=\u001b[0m \u001b[0mdf_sin\u001b[0m\u001b[1;33m[\u001b[0m\u001b[1;33m[\u001b[0m\u001b[0mi\u001b[0m\u001b[1;33m[\u001b[0m\u001b[1;36m0\u001b[0m\u001b[1;33m]\u001b[0m \u001b[1;32mfor\u001b[0m \u001b[0mi\u001b[0m \u001b[1;32min\u001b[0m \u001b[0mget_most_important\u001b[0m\u001b[1;33m(\u001b[0m\u001b[0malcohol_model\u001b[0m\u001b[1;33m,\u001b[0m \u001b[1;36m35\u001b[0m\u001b[1;33m)\u001b[0m\u001b[1;33m]\u001b[0m\u001b[1;33m]\u001b[0m\u001b[1;33m\u001b[0m\u001b[0m\n\u001b[0m",
      "\u001b[0;31mNameError\u001b[0m: name 'df_sin' is not defined"
     ]
    }
   ],
   "source": [
    "df_sina = df_sin[[i[0] for i in get_most_important(alcohol_model, 35)]]"
   ]
  },
  {
   "cell_type": "code",
   "execution_count": 43,
   "metadata": {
    "collapsed": false,
    "jupyter": {
     "outputs_hidden": false
    }
   },
   "outputs": [
    {
     "name": "stdout",
     "output_type": "stream",
     "text": [
      "Cross val score:  0.874696904574\n",
      "Roc score: 0.904001866325\n",
      "             precision    recall  f1-score   support\n",
      "\n",
      "          0       0.92      0.99      0.95      8793\n",
      "          1       0.87      0.50      0.63      1510\n",
      "\n",
      "avg / total       0.91      0.92      0.91     10303\n",
      "\n"
     ]
    }
   ],
   "source": [
    "best_recall_params = {'max_features': 4, 'n_estimators': 25, 'criterion': 'entropy', 'warm_start': False}\n",
    "alcohol_model2 = make_model('Alcohol', best_recall_params, df_sina, df_target)"
   ]
  },
  {
   "cell_type": "markdown",
   "metadata": {},
   "source": [
    "### Con una reducción del ~95% de las variables (de 632 a 35), mantenemos un valor predictivo muy similar, inclusive mejorando en algunos casos"
   ]
  },
  {
   "cell_type": "code",
   "execution_count": 44,
   "metadata": {
    "collapsed": false,
    "jupyter": {
     "outputs_hidden": false
    }
   },
   "outputs": [
    {
     "name": "stdout",
     "output_type": "stream",
     "text": [
      "Cross val score:  0.749684067912\n",
      "Roc score: 0.874166528246\n",
      "             precision    recall  f1-score   support\n",
      "\n",
      "          0       0.86      0.93      0.89      7427\n",
      "          1       0.76      0.60      0.67      2876\n",
      "\n",
      "avg / total       0.83      0.84      0.83     10303\n",
      "\n"
     ]
    }
   ],
   "source": [
    "best_params_tabaco = {'max_features': 6, 'n_estimators': 5, 'criterion': 'gini', 'warm_start': True}\n",
    "tabaco_model = make_model('Tabaco', best_params_tabaco, df_sin, df_target)"
   ]
  },
  {
   "cell_type": "code",
   "execution_count": 45,
   "metadata": {
    "collapsed": false,
    "jupyter": {
     "outputs_hidden": false
    }
   },
   "outputs": [
    {
     "name": "stdout",
     "output_type": "stream",
     "text": [
      "Cross val score:  0.788992880793\n",
      "Roc score: 0.916663714383\n",
      "             precision    recall  f1-score   support\n",
      "\n",
      "          0       0.90      0.89      0.90      7356\n",
      "          1       0.74      0.75      0.74      2947\n",
      "\n",
      "avg / total       0.85      0.85      0.85     10303\n",
      "\n"
     ]
    }
   ],
   "source": [
    "df_sint = df_sin[[i[0] for i in get_most_important(tabaco_model, 30)]]\n",
    "best_params_tabaco = {'max_features': 6, 'n_estimators': 5, 'criterion': 'gini', 'warm_start': True}\n",
    "tabaco_model2 = make_model('Tabaco', best_params_tabaco, df_sint, df_target)"
   ]
  },
  {
   "cell_type": "code",
   "execution_count": 47,
   "metadata": {
    "collapsed": false,
    "jupyter": {
     "outputs_hidden": false
    }
   },
   "outputs": [
    {
     "name": "stdout",
     "output_type": "stream",
     "text": [
      "Cross val score:  0.996020670454\n",
      "Roc score: 0.950990929484\n",
      "             precision    recall  f1-score   support\n",
      "\n",
      "          0       1.00      1.00      1.00     10253\n",
      "          1       1.00      0.50      0.67        50\n",
      "\n",
      "avg / total       1.00      1.00      1.00     10303\n",
      "\n"
     ]
    }
   ],
   "source": [
    "best_params_coc = {'max_features': 1, 'n_estimators': 50, 'criterion': 'entropy', 'warm_start': False}\n",
    "otras_model = make_model('Cocaina', best_params_coc, df_sin, df_target)"
   ]
  },
  {
   "cell_type": "code",
   "execution_count": 51,
   "metadata": {
    "collapsed": false,
    "jupyter": {
     "outputs_hidden": false
    }
   },
   "outputs": [
    {
     "name": "stdout",
     "output_type": "stream",
     "text": [
      "Cross val score:  0.996602968799\n",
      "Roc score: 0.923205526241\n",
      "             precision    recall  f1-score   support\n",
      "\n",
      "          0       1.00      1.00      1.00     10261\n",
      "          1       0.92      0.57      0.71        42\n",
      "\n",
      "avg / total       1.00      1.00      1.00     10303\n",
      "\n"
     ]
    }
   ],
   "source": [
    "df_sino = df_sin[[i[0] for i in get_most_important(otras_model, 30)]]\n",
    "best_params_coc = {'max_features': 1, 'n_estimators': 50, 'criterion': 'entropy', 'warm_start': False}\n",
    "otras_model2 = make_model('Cocaina', best_params_coc, df_sino, df_target)"
   ]
  },
  {
   "cell_type": "code",
   "execution_count": 59,
   "metadata": {
    "collapsed": false,
    "jupyter": {
     "outputs_hidden": false
    }
   },
   "outputs": [
    {
     "name": "stdout",
     "output_type": "stream",
     "text": [
      "Cross val score:  0.993885219138\n",
      "Roc score: 0.889878538231\n",
      "             precision    recall  f1-score   support\n",
      "\n",
      "          0       1.00      1.00      1.00     10229\n",
      "          1       1.00      0.55      0.71        74\n",
      "\n",
      "avg / total       1.00      1.00      1.00     10303\n",
      "\n"
     ]
    }
   ],
   "source": [
    "best_params_otras = {'max_features': 1, 'n_estimators': 50, 'criterion': 'entropy', 'warm_start': False}\n",
    "otras_model = make_model('Otras', best_params_otras, df_sin, df_target)"
   ]
  },
  {
   "cell_type": "code",
   "execution_count": 86,
   "metadata": {
    "collapsed": false,
    "jupyter": {
     "outputs_hidden": false
    }
   },
   "outputs": [
    {
     "name": "stdout",
     "output_type": "stream",
     "text": [
      "Cross val score:  0.993108953499\n",
      "Roc score: 0.885182085476\n",
      "             precision    recall  f1-score   support\n",
      "\n",
      "          0       1.00      1.00      1.00     10232\n",
      "          1       0.93      0.52      0.67        71\n",
      "\n",
      "avg / total       1.00      1.00      1.00     10303\n",
      "\n"
     ]
    }
   ],
   "source": [
    "df_sino = df_sin[[i[0] for i in get_most_important(otras_model, 30)]]\n",
    "best_params_otras = {'max_features': 1, 'n_estimators': 50, 'criterion': 'entropy', 'warm_start': False}\n",
    "otras_model2 = make_model('Otras', best_params_otras, df_sino, df_target)"
   ]
  },
  {
   "cell_type": "markdown",
   "metadata": {},
   "source": [
    "## Condensamos las variables seleccionadas en un nuevo DataFrame"
   ]
  },
  {
   "cell_type": "code",
   "execution_count": 80,
   "metadata": {
    "collapsed": false,
    "jupyter": {
     "outputs_hidden": false
    }
   },
   "outputs": [],
   "source": [
    "all_cols = set()\n",
    "for v in locals():\n",
    "    if v.startswith('df_sin') and v != 'df_sin':\n",
    "        for c in eval(v).columns:\n",
    "            #revierto el dummie\n",
    "            all_cols.add(re.match('([\\w]+)_', c).group(1)) "
   ]
  },
  {
   "cell_type": "code",
   "execution_count": 81,
   "metadata": {
    "collapsed": false,
    "jupyter": {
     "outputs_hidden": false
    },
    "scrolled": true
   },
   "outputs": [
    {
     "data": {
      "text/html": [
       "<div>\n",
       "<style>\n",
       "    .dataframe thead tr:only-child th {\n",
       "        text-align: right;\n",
       "    }\n",
       "\n",
       "    .dataframe thead th {\n",
       "        text-align: left;\n",
       "    }\n",
       "\n",
       "    .dataframe tbody tr th {\n",
       "        vertical-align: top;\n",
       "    }\n",
       "</style>\n",
       "<table border=\"1\" class=\"dataframe\">\n",
       "  <thead>\n",
       "    <tr style=\"text-align: right;\">\n",
       "      <th></th>\n",
       "      <th>BIBA14_01</th>\n",
       "      <th>CAT_OCUP_J</th>\n",
       "      <th>BHCV02</th>\n",
       "      <th>REGION</th>\n",
       "      <th>GRUPEDAD</th>\n",
       "      <th>BHCV04</th>\n",
       "      <th>BIAC07_02</th>\n",
       "      <th>GRUPEDAD_J</th>\n",
       "      <th>BHCH04J</th>\n",
       "      <th>BHHO02</th>\n",
       "      <th>...</th>\n",
       "      <th>BHCH03</th>\n",
       "      <th>BIAC01</th>\n",
       "      <th>POB_URB</th>\n",
       "      <th>BHSL12</th>\n",
       "      <th>BISG01</th>\n",
       "      <th>BIAC07_01</th>\n",
       "      <th>BHCV06</th>\n",
       "      <th>COB_SALUD</th>\n",
       "      <th>BISG03</th>\n",
       "      <th>BHCH04</th>\n",
       "    </tr>\n",
       "  </thead>\n",
       "  <tbody>\n",
       "    <tr>\n",
       "      <th>0</th>\n",
       "      <td>3.0</td>\n",
       "      <td>3.0</td>\n",
       "      <td>4.0</td>\n",
       "      <td>1.0</td>\n",
       "      <td>2.0</td>\n",
       "      <td>1.0</td>\n",
       "      <td>2.0</td>\n",
       "      <td>4.0</td>\n",
       "      <td>2.0</td>\n",
       "      <td>4.0</td>\n",
       "      <td>...</td>\n",
       "      <td>3.0</td>\n",
       "      <td>1.0</td>\n",
       "      <td>4.0</td>\n",
       "      <td>3.0</td>\n",
       "      <td>2.0</td>\n",
       "      <td>2.0</td>\n",
       "      <td>1.0</td>\n",
       "      <td>3.0</td>\n",
       "      <td>2.0</td>\n",
       "      <td>2.0</td>\n",
       "    </tr>\n",
       "    <tr>\n",
       "      <th>1</th>\n",
       "      <td>1.0</td>\n",
       "      <td>2.0</td>\n",
       "      <td>4.0</td>\n",
       "      <td>1.0</td>\n",
       "      <td>5.0</td>\n",
       "      <td>1.0</td>\n",
       "      <td>1.0</td>\n",
       "      <td>5.0</td>\n",
       "      <td>1.0</td>\n",
       "      <td>4.0</td>\n",
       "      <td>...</td>\n",
       "      <td>1.0</td>\n",
       "      <td>2.0</td>\n",
       "      <td>4.0</td>\n",
       "      <td>2.0</td>\n",
       "      <td>4.0</td>\n",
       "      <td>1.0</td>\n",
       "      <td>1.0</td>\n",
       "      <td>3.0</td>\n",
       "      <td>2.0</td>\n",
       "      <td>1.0</td>\n",
       "    </tr>\n",
       "    <tr>\n",
       "      <th>2</th>\n",
       "      <td>2.0</td>\n",
       "      <td>3.0</td>\n",
       "      <td>4.0</td>\n",
       "      <td>1.0</td>\n",
       "      <td>5.0</td>\n",
       "      <td>1.0</td>\n",
       "      <td>3.0</td>\n",
       "      <td>5.0</td>\n",
       "      <td>2.0</td>\n",
       "      <td>4.0</td>\n",
       "      <td>...</td>\n",
       "      <td>1.0</td>\n",
       "      <td>2.0</td>\n",
       "      <td>4.0</td>\n",
       "      <td>1.0</td>\n",
       "      <td>3.0</td>\n",
       "      <td>3.0</td>\n",
       "      <td>1.0</td>\n",
       "      <td>3.0</td>\n",
       "      <td>2.0</td>\n",
       "      <td>2.0</td>\n",
       "    </tr>\n",
       "    <tr>\n",
       "      <th>3</th>\n",
       "      <td>1.0</td>\n",
       "      <td>0.0</td>\n",
       "      <td>3.0</td>\n",
       "      <td>1.0</td>\n",
       "      <td>4.0</td>\n",
       "      <td>1.0</td>\n",
       "      <td>3.0</td>\n",
       "      <td>4.0</td>\n",
       "      <td>1.0</td>\n",
       "      <td>3.0</td>\n",
       "      <td>...</td>\n",
       "      <td>1.0</td>\n",
       "      <td>1.0</td>\n",
       "      <td>4.0</td>\n",
       "      <td>0.0</td>\n",
       "      <td>3.0</td>\n",
       "      <td>3.0</td>\n",
       "      <td>1.0</td>\n",
       "      <td>3.0</td>\n",
       "      <td>2.0</td>\n",
       "      <td>1.0</td>\n",
       "    </tr>\n",
       "    <tr>\n",
       "      <th>4</th>\n",
       "      <td>1.0</td>\n",
       "      <td>3.0</td>\n",
       "      <td>4.0</td>\n",
       "      <td>1.0</td>\n",
       "      <td>2.0</td>\n",
       "      <td>1.0</td>\n",
       "      <td>3.0</td>\n",
       "      <td>4.0</td>\n",
       "      <td>1.0</td>\n",
       "      <td>4.0</td>\n",
       "      <td>...</td>\n",
       "      <td>3.0</td>\n",
       "      <td>1.0</td>\n",
       "      <td>4.0</td>\n",
       "      <td>3.0</td>\n",
       "      <td>2.0</td>\n",
       "      <td>3.0</td>\n",
       "      <td>1.0</td>\n",
       "      <td>3.0</td>\n",
       "      <td>2.0</td>\n",
       "      <td>1.0</td>\n",
       "    </tr>\n",
       "  </tbody>\n",
       "</table>\n",
       "<p>5 rows × 40 columns</p>\n",
       "</div>"
      ],
      "text/plain": [
       "   BIBA14_01  CAT_OCUP_J  BHCV02  REGION  GRUPEDAD  BHCV04  BIAC07_02  \\\n",
       "0        3.0         3.0     4.0     1.0       2.0     1.0        2.0   \n",
       "1        1.0         2.0     4.0     1.0       5.0     1.0        1.0   \n",
       "2        2.0         3.0     4.0     1.0       5.0     1.0        3.0   \n",
       "3        1.0         0.0     3.0     1.0       4.0     1.0        3.0   \n",
       "4        1.0         3.0     4.0     1.0       2.0     1.0        3.0   \n",
       "\n",
       "   GRUPEDAD_J  BHCH04J  BHHO02   ...    BHCH03  BIAC01  POB_URB  BHSL12  \\\n",
       "0         4.0      2.0     4.0   ...       3.0     1.0      4.0     3.0   \n",
       "1         5.0      1.0     4.0   ...       1.0     2.0      4.0     2.0   \n",
       "2         5.0      2.0     4.0   ...       1.0     2.0      4.0     1.0   \n",
       "3         4.0      1.0     3.0   ...       1.0     1.0      4.0     0.0   \n",
       "4         4.0      1.0     4.0   ...       3.0     1.0      4.0     3.0   \n",
       "\n",
       "   BISG01  BIAC07_01  BHCV06  COB_SALUD  BISG03  BHCH04  \n",
       "0     2.0        2.0     1.0        3.0     2.0     2.0  \n",
       "1     4.0        1.0     1.0        3.0     2.0     1.0  \n",
       "2     3.0        3.0     1.0        3.0     2.0     2.0  \n",
       "3     3.0        3.0     1.0        3.0     2.0     1.0  \n",
       "4     2.0        3.0     1.0        3.0     2.0     1.0  \n",
       "\n",
       "[5 rows x 40 columns]"
      ]
     },
     "execution_count": 81,
     "metadata": {},
     "output_type": "execute_result"
    }
   ],
   "source": [
    "df_resultado = df0[list(all_cols)]\n",
    "df_resultado.head()"
   ]
  },
  {
   "cell_type": "code",
   "execution_count": null,
   "metadata": {
    "collapsed": true,
    "jupyter": {
     "outputs_hidden": true
    }
   },
   "outputs": [],
   "source": []
  },
  {
   "cell_type": "markdown",
   "metadata": {},
   "source": [
    "................................................................................................................................................................................................................................................................"
   ]
  },
  {
   "cell_type": "markdown",
   "metadata": {},
   "source": [
    "<font size = 5><center> Con estas 38 preguntas, podemos identificar con buena precisión consumidores problemáticos de drogas, puntuando similar al cuestionario original de 291 elementos. Este cuestionario puede significar un muy buen punto de partida para una herramienta importante de screening para población en riesgo de trastornos de abuso de sustancias. "
   ]
  }
 ],
 "metadata": {
  "kernelspec": {
   "display_name": "Python 3",
   "language": "python",
   "name": "python3"
  },
  "language_info": {
   "codemirror_mode": {
    "name": "ipython",
    "version": 3
   },
   "file_extension": ".py",
   "mimetype": "text/x-python",
   "name": "python",
   "nbconvert_exporter": "python",
   "pygments_lexer": "ipython3",
   "version": "3.7.4"
  }
 },
 "nbformat": 4,
 "nbformat_minor": 4
}
